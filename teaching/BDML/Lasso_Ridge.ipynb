{
 "cells": [
  {
   "cell_type": "code",
   "execution_count": 148,
   "metadata": {
    "tags": []
   },
   "outputs": [],
   "source": [
    "import pandas as pd\n",
    "import numpy as np\n",
    "from tqdm import tqdm\n",
    "from sklearn.model_selection import train_test_split\n",
    "from sklearn.metrics import mean_squared_error as mse\n",
    "import geopandas\n",
    "from sklearn import linear_model\n",
    "from sklearn.model_selection import KFold\n",
    "from sklearn.model_selection import cross_val_score\n",
    "from sklearn.model_selection import GridSearchCV\n",
    "from sklearn.linear_model import RidgeCV\n",
    "from sklearn.linear_model import LassoCV\n",
    "import matplotlib.pyplot as plt\n",
    "import warnings\n",
    "from pysal.lib import cg as geometry\n",
    "from pysal.lib import weights\n",
    "warnings.filterwarnings(\"ignore\")\n",
    "from shapely.geometry import Point, MultiPoint\n",
    "from shapely.ops import nearest_points"
   ]
  },
  {
   "cell_type": "code",
   "execution_count": 149,
   "metadata": {
    "tags": []
   },
   "outputs": [],
   "source": [
    "df = pd.read_csv('co_properties.csv.gz', compression='gzip', header=0,    sep=',', quotechar='\"', error_bad_lines=False)"
   ]
  },
  {
   "cell_type": "markdown",
   "metadata": {},
   "source": [
    "- The most reliable Python library to manage spatial data is geopandas. Unfortunately, the instalation of geopandas is not as trivial as the other Python librarys we have seen. For this reason, I leave a blog with a simple way of installing [geopandas](https://medium.com/analytics-vidhya/fastest-way-to-install-geopandas-in-jupyter-notebook-on-windows-8f734e11fa2b)"
   ]
  },
  {
   "cell_type": "markdown",
   "metadata": {},
   "source": [
    "- Data preprocesing"
   ]
  },
  {
   "cell_type": "code",
   "execution_count": 150,
   "metadata": {},
   "outputs": [],
   "source": [
    "df=df[df['operation_type']=='Venta']\n",
    "df=df[df['property_type']=='Casa']\n",
    "df=df[df['currency']=='COP']\n",
    "df=df[df['l3']=='Bogotá D.C']\n",
    "df=df[[ 'price', 'rooms', 'bathrooms', 'surface_total', 'surface_covered','lat','lon']]\n",
    "df=df.dropna()"
   ]
  },
  {
   "cell_type": "code",
   "execution_count": 151,
   "metadata": {},
   "outputs": [],
   "source": [
    "df = geopandas.GeoDataFrame(df, geometry=geopandas.points_from_xy(df.lon, df.lat))\n",
    "df=df.set_crs(epsg=4326, inplace=True)"
   ]
  },
  {
   "cell_type": "markdown",
   "metadata": {},
   "source": [
    "- Let's see if we can use the distance to the center of the city as a feature in our model"
   ]
  },
  {
   "cell_type": "code",
   "execution_count": 132,
   "metadata": {},
   "outputs": [
    {
     "name": "stderr",
     "output_type": "stream",
     "text": [
      "100%|██████████| 1132/1132 [00:00<00:00, 11546.44it/s]\n"
     ]
    }
   ],
   "source": [
    "lat=[4.61083]\n",
    "lon=[-74.070278]\n",
    "colp=pd.DataFrame({'lat':lat,'lon':lon})\n",
    "colp = geopandas.GeoDataFrame(colp , geometry=geopandas.points_from_xy(colp.lon, colp.lat))\n",
    "df=df.reset_index(drop=True)\n",
    "colp=colp.set_crs(epsg=4326, inplace=True)\n",
    "colp=colp.to_crs(epsg=3310)\n",
    "df=df.to_crs(epsg=3310)\n",
    "dis=[]\n",
    "for i in tqdm(df.index):\n",
    "    dis.append(colp.distance(df['geometry'][i])[0])"
   ]
  },
  {
   "cell_type": "code",
   "execution_count": 133,
   "metadata": {},
   "outputs": [],
   "source": [
    "df['dis_centro']=dis"
   ]
  },
  {
   "cell_type": "markdown",
   "metadata": {},
   "source": [
    "- Import shapefile with geopandas"
   ]
  },
  {
   "cell_type": "code",
   "execution_count": 161,
   "metadata": {},
   "outputs": [],
   "source": [
    "estaciones=geopandas.read_file('estaciones.zip')\n",
    "estaciones=estaciones.to_crs(epsg=4326)\n",
    "df=df.reset_index(drop=True)\n",
    "puntos = estaciones['geometry'].tolist()\n",
    "puntos = MultiPoint(puntos)"
   ]
  },
  {
   "cell_type": "markdown",
   "metadata": {},
   "source": [
    "- Let´s find the distance of each property to the nearest transmilenio station"
   ]
  },
  {
   "cell_type": "code",
   "execution_count": 172,
   "metadata": {},
   "outputs": [],
   "source": [
    "n=nearest_points(df['geometry'][0],puntos)[1]"
   ]
  },
  {
   "cell_type": "code",
   "execution_count": 178,
   "metadata": {},
   "outputs": [
    {
     "data": {
      "text/plain": [
       "510"
      ]
     },
     "execution_count": 178,
     "metadata": {},
     "output_type": "execute_result"
    }
   ],
   "source": [
    "estaciones[estaciones['geometry'] == n].index[0]"
   ]
  },
  {
   "cell_type": "code",
   "execution_count": 191,
   "metadata": {},
   "outputs": [
    {
     "data": {
      "text/plain": [
       "0.0013144006860216198"
      ]
     },
     "execution_count": 191,
     "metadata": {},
     "output_type": "execute_result"
    }
   ],
   "source": [
    "(estaciones.iloc[[510]].distance(df['geometry'][0]))[510]"
   ]
  },
  {
   "cell_type": "code",
   "execution_count": 193,
   "metadata": {},
   "outputs": [
    {
     "name": "stderr",
     "output_type": "stream",
     "text": [
      "100%|██████████| 1132/1132 [03:18<00:00,  5.70it/s]\n"
     ]
    }
   ],
   "source": [
    "distancia_transmi=[]\n",
    "for i in tqdm(df.index):\n",
    "    n=nearest_points(df['geometry'][0],puntos)[1]\n",
    "    y=estaciones[estaciones['geometry'] == n].index[0]\n",
    "    distancia_transmi.append((estaciones.iloc[[y]].distance(df['geometry'][0]))[y])\n",
    "    \n",
    "    "
   ]
  },
  {
   "cell_type": "code",
   "execution_count": null,
   "metadata": {},
   "outputs": [],
   "source": [
    "df['distancia_transmi']=distancia_transmi"
   ]
  },
  {
   "cell_type": "markdown",
   "metadata": {},
   "source": [
    "## **lasso CV**"
   ]
  },
  {
   "cell_type": "markdown",
   "metadata": {},
   "source": [
    "- common notation l1=Lasso l2=ridge"
   ]
  },
  {
   "cell_type": "code",
   "execution_count": 134,
   "metadata": {},
   "outputs": [],
   "source": [
    "df=df.drop(columns=['geometry'])"
   ]
  },
  {
   "cell_type": "code",
   "execution_count": 135,
   "metadata": {},
   "outputs": [],
   "source": [
    "x_train, x_test, y_train, y_test = train_test_split(df.drop(columns=['price']),df['price'], test_size=0.30,\n",
    "                                                    random_state=289988888,\n",
    "                                                    shuffle=True)"
   ]
  },
  {
   "cell_type": "code",
   "execution_count": 136,
   "metadata": {},
   "outputs": [
    {
     "name": "stdout",
     "output_type": "stream",
     "text": [
      "Fitting 5 folds for each of 100 candidates, totalling 500 fits\n"
     ]
    }
   ],
   "source": [
    "folds = KFold(n_splits = 5, shuffle = True, random_state = 100)\n",
    "lasso_params = {'alpha':np.logspace(-8, 8, 100)}\n",
    "lasso= linear_model.Lasso()\n",
    "\n",
    "            \n",
    "model_cv = GridSearchCV(estimator = lasso, \n",
    "                        param_grid = lasso_params, \n",
    "                        scoring='neg_mean_squared_error', \n",
    "                        cv = folds, \n",
    "                        verbose = 1,\n",
    "                        return_train_score=True\n",
    "                       ,n_jobs=10)      \n",
    "bla=model_cv.fit(x_train, y_train)  "
   ]
  },
  {
   "cell_type": "code",
   "execution_count": 137,
   "metadata": {},
   "outputs": [
    {
     "data": {
      "text/plain": [
       "Lasso(alpha=1.9630406500402725e-07)"
      ]
     },
     "execution_count": 137,
     "metadata": {},
     "output_type": "execute_result"
    }
   ],
   "source": [
    "bla.best_estimator_"
   ]
  },
  {
   "cell_type": "code",
   "execution_count": 138,
   "metadata": {},
   "outputs": [
    {
     "data": {
      "text/plain": [
       "1.00956155552173e+18"
      ]
     },
     "execution_count": 138,
     "metadata": {},
     "output_type": "execute_result"
    }
   ],
   "source": [
    "mse(y_test, bla.predict(x_test))"
   ]
  },
  {
   "cell_type": "code",
   "execution_count": 139,
   "metadata": {},
   "outputs": [
    {
     "data": {
      "text/plain": [
       "4.626427938004997e+17"
      ]
     },
     "execution_count": 139,
     "metadata": {},
     "output_type": "execute_result"
    }
   ],
   "source": [
    "mse(y_train, bla.predict(x_train))"
   ]
  },
  {
   "cell_type": "code",
   "execution_count": 140,
   "metadata": {
    "tags": []
   },
   "outputs": [
    {
     "data": {
      "text/html": [
       "<div>\n",
       "<style scoped>\n",
       "    .dataframe tbody tr th:only-of-type {\n",
       "        vertical-align: middle;\n",
       "    }\n",
       "\n",
       "    .dataframe tbody tr th {\n",
       "        vertical-align: top;\n",
       "    }\n",
       "\n",
       "    .dataframe thead th {\n",
       "        text-align: right;\n",
       "    }\n",
       "</style>\n",
       "<table border=\"1\" class=\"dataframe\">\n",
       "  <thead>\n",
       "    <tr style=\"text-align: right;\">\n",
       "      <th></th>\n",
       "      <th>mean_fit_time</th>\n",
       "      <th>std_fit_time</th>\n",
       "      <th>mean_score_time</th>\n",
       "      <th>std_score_time</th>\n",
       "      <th>param_alpha</th>\n",
       "      <th>params</th>\n",
       "      <th>split0_test_score</th>\n",
       "      <th>split1_test_score</th>\n",
       "      <th>split2_test_score</th>\n",
       "      <th>split3_test_score</th>\n",
       "      <th>...</th>\n",
       "      <th>mean_test_score</th>\n",
       "      <th>std_test_score</th>\n",
       "      <th>rank_test_score</th>\n",
       "      <th>split0_train_score</th>\n",
       "      <th>split1_train_score</th>\n",
       "      <th>split2_train_score</th>\n",
       "      <th>split3_train_score</th>\n",
       "      <th>split4_train_score</th>\n",
       "      <th>mean_train_score</th>\n",
       "      <th>std_train_score</th>\n",
       "    </tr>\n",
       "  </thead>\n",
       "  <tbody>\n",
       "    <tr>\n",
       "      <th>0</th>\n",
       "      <td>0.004968</td>\n",
       "      <td>0.002594</td>\n",
       "      <td>0.001200</td>\n",
       "      <td>0.000980</td>\n",
       "      <td>0.0</td>\n",
       "      <td>{'alpha': 1e-08}</td>\n",
       "      <td>-1.000769e+19</td>\n",
       "      <td>-4.521354e+17</td>\n",
       "      <td>-5.602648e+17</td>\n",
       "      <td>-5.446985e+17</td>\n",
       "      <td>...</td>\n",
       "      <td>-2.389736e+18</td>\n",
       "      <td>3.809516e+18</td>\n",
       "      <td>3</td>\n",
       "      <td>-4.101373e+17</td>\n",
       "      <td>-4.665496e+17</td>\n",
       "      <td>-4.406621e+17</td>\n",
       "      <td>-4.445249e+17</td>\n",
       "      <td>-4.839554e+17</td>\n",
       "      <td>-4.491658e+17</td>\n",
       "      <td>2.501835e+16</td>\n",
       "    </tr>\n",
       "    <tr>\n",
       "      <th>1</th>\n",
       "      <td>0.006249</td>\n",
       "      <td>0.007653</td>\n",
       "      <td>0.000000</td>\n",
       "      <td>0.000000</td>\n",
       "      <td>0.0</td>\n",
       "      <td>{'alpha': 1.4508287784959402e-08}</td>\n",
       "      <td>-1.000769e+19</td>\n",
       "      <td>-4.521354e+17</td>\n",
       "      <td>-5.602648e+17</td>\n",
       "      <td>-5.446985e+17</td>\n",
       "      <td>...</td>\n",
       "      <td>-2.389736e+18</td>\n",
       "      <td>3.809516e+18</td>\n",
       "      <td>7</td>\n",
       "      <td>-4.101373e+17</td>\n",
       "      <td>-4.665496e+17</td>\n",
       "      <td>-4.406621e+17</td>\n",
       "      <td>-4.445249e+17</td>\n",
       "      <td>-4.839554e+17</td>\n",
       "      <td>-4.491658e+17</td>\n",
       "      <td>2.501835e+16</td>\n",
       "    </tr>\n",
       "    <tr>\n",
       "      <th>2</th>\n",
       "      <td>0.011168</td>\n",
       "      <td>0.006149</td>\n",
       "      <td>0.000399</td>\n",
       "      <td>0.000798</td>\n",
       "      <td>0.0</td>\n",
       "      <td>{'alpha': 2.104904144512022e-08}</td>\n",
       "      <td>-1.000769e+19</td>\n",
       "      <td>-4.521354e+17</td>\n",
       "      <td>-5.602648e+17</td>\n",
       "      <td>-5.446985e+17</td>\n",
       "      <td>...</td>\n",
       "      <td>-2.389736e+18</td>\n",
       "      <td>3.809516e+18</td>\n",
       "      <td>10</td>\n",
       "      <td>-4.101373e+17</td>\n",
       "      <td>-4.665496e+17</td>\n",
       "      <td>-4.406621e+17</td>\n",
       "      <td>-4.445249e+17</td>\n",
       "      <td>-4.839554e+17</td>\n",
       "      <td>-4.491658e+17</td>\n",
       "      <td>2.501835e+16</td>\n",
       "    </tr>\n",
       "    <tr>\n",
       "      <th>3</th>\n",
       "      <td>0.006116</td>\n",
       "      <td>0.005820</td>\n",
       "      <td>0.002234</td>\n",
       "      <td>0.002289</td>\n",
       "      <td>0.0</td>\n",
       "      <td>{'alpha': 3.053855508833412e-08}</td>\n",
       "      <td>-1.000769e+19</td>\n",
       "      <td>-4.521354e+17</td>\n",
       "      <td>-5.602648e+17</td>\n",
       "      <td>-5.446985e+17</td>\n",
       "      <td>...</td>\n",
       "      <td>-2.389736e+18</td>\n",
       "      <td>3.809516e+18</td>\n",
       "      <td>9</td>\n",
       "      <td>-4.101373e+17</td>\n",
       "      <td>-4.665496e+17</td>\n",
       "      <td>-4.406621e+17</td>\n",
       "      <td>-4.445249e+17</td>\n",
       "      <td>-4.839554e+17</td>\n",
       "      <td>-4.491658e+17</td>\n",
       "      <td>2.501835e+16</td>\n",
       "    </tr>\n",
       "    <tr>\n",
       "      <th>4</th>\n",
       "      <td>0.013899</td>\n",
       "      <td>0.003446</td>\n",
       "      <td>0.000000</td>\n",
       "      <td>0.000000</td>\n",
       "      <td>0.0</td>\n",
       "      <td>{'alpha': 4.4306214575838774e-08}</td>\n",
       "      <td>-1.000769e+19</td>\n",
       "      <td>-4.521354e+17</td>\n",
       "      <td>-5.602648e+17</td>\n",
       "      <td>-5.446985e+17</td>\n",
       "      <td>...</td>\n",
       "      <td>-2.389736e+18</td>\n",
       "      <td>3.809516e+18</td>\n",
       "      <td>13</td>\n",
       "      <td>-4.101373e+17</td>\n",
       "      <td>-4.665496e+17</td>\n",
       "      <td>-4.406621e+17</td>\n",
       "      <td>-4.445249e+17</td>\n",
       "      <td>-4.839554e+17</td>\n",
       "      <td>-4.491658e+17</td>\n",
       "      <td>2.501835e+16</td>\n",
       "    </tr>\n",
       "    <tr>\n",
       "      <th>...</th>\n",
       "      <td>...</td>\n",
       "      <td>...</td>\n",
       "      <td>...</td>\n",
       "      <td>...</td>\n",
       "      <td>...</td>\n",
       "      <td>...</td>\n",
       "      <td>...</td>\n",
       "      <td>...</td>\n",
       "      <td>...</td>\n",
       "      <td>...</td>\n",
       "      <td>...</td>\n",
       "      <td>...</td>\n",
       "      <td>...</td>\n",
       "      <td>...</td>\n",
       "      <td>...</td>\n",
       "      <td>...</td>\n",
       "      <td>...</td>\n",
       "      <td>...</td>\n",
       "      <td>...</td>\n",
       "      <td>...</td>\n",
       "      <td>...</td>\n",
       "    </tr>\n",
       "    <tr>\n",
       "      <th>95</th>\n",
       "      <td>0.004420</td>\n",
       "      <td>0.004647</td>\n",
       "      <td>0.001604</td>\n",
       "      <td>0.003208</td>\n",
       "      <td>22570197.196339</td>\n",
       "      <td>{'alpha': 22570197.19633926}</td>\n",
       "      <td>-1.372246e+19</td>\n",
       "      <td>-5.293196e+17</td>\n",
       "      <td>-7.004913e+17</td>\n",
       "      <td>-6.607538e+17</td>\n",
       "      <td>...</td>\n",
       "      <td>-3.214923e+18</td>\n",
       "      <td>5.254478e+18</td>\n",
       "      <td>96</td>\n",
       "      <td>-4.909635e+17</td>\n",
       "      <td>-5.670539e+17</td>\n",
       "      <td>-5.289538e+17</td>\n",
       "      <td>-5.352102e+17</td>\n",
       "      <td>-5.828938e+17</td>\n",
       "      <td>-5.410150e+17</td>\n",
       "      <td>3.198807e+16</td>\n",
       "    </tr>\n",
       "    <tr>\n",
       "      <th>96</th>\n",
       "      <td>0.001610</td>\n",
       "      <td>0.003220</td>\n",
       "      <td>0.003624</td>\n",
       "      <td>0.003688</td>\n",
       "      <td>32745491.628777</td>\n",
       "      <td>{'alpha': 32745491.628777318}</td>\n",
       "      <td>-1.403229e+19</td>\n",
       "      <td>-5.290995e+17</td>\n",
       "      <td>-7.054859e+17</td>\n",
       "      <td>-6.600150e+17</td>\n",
       "      <td>...</td>\n",
       "      <td>-3.277268e+18</td>\n",
       "      <td>5.378235e+18</td>\n",
       "      <td>97</td>\n",
       "      <td>-4.918218e+17</td>\n",
       "      <td>-5.677285e+17</td>\n",
       "      <td>-5.296472e+17</td>\n",
       "      <td>-5.359985e+17</td>\n",
       "      <td>-5.836450e+17</td>\n",
       "      <td>-5.417682e+17</td>\n",
       "      <td>3.194510e+16</td>\n",
       "    </tr>\n",
       "    <tr>\n",
       "      <th>97</th>\n",
       "      <td>0.002418</td>\n",
       "      <td>0.003906</td>\n",
       "      <td>0.000000</td>\n",
       "      <td>0.000000</td>\n",
       "      <td>47508101.621028</td>\n",
       "      <td>{'alpha': 47508101.621028125}</td>\n",
       "      <td>-1.449050e+19</td>\n",
       "      <td>-5.290452e+17</td>\n",
       "      <td>-7.130617e+17</td>\n",
       "      <td>-6.596746e+17</td>\n",
       "      <td>...</td>\n",
       "      <td>-3.369839e+18</td>\n",
       "      <td>5.561075e+18</td>\n",
       "      <td>98</td>\n",
       "      <td>-4.936282e+17</td>\n",
       "      <td>-5.691485e+17</td>\n",
       "      <td>-5.311065e+17</td>\n",
       "      <td>-5.376578e+17</td>\n",
       "      <td>-5.852259e+17</td>\n",
       "      <td>-5.433534e+17</td>\n",
       "      <td>3.185504e+16</td>\n",
       "    </tr>\n",
       "    <tr>\n",
       "      <th>98</th>\n",
       "      <td>0.004421</td>\n",
       "      <td>0.003889</td>\n",
       "      <td>0.002008</td>\n",
       "      <td>0.003107</td>\n",
       "      <td>68926121.043497</td>\n",
       "      <td>{'alpha': 68926121.04349709}</td>\n",
       "      <td>-1.513057e+19</td>\n",
       "      <td>-5.295245e+17</td>\n",
       "      <td>-7.247494e+17</td>\n",
       "      <td>-6.607206e+17</td>\n",
       "      <td>...</td>\n",
       "      <td>-3.499998e+18</td>\n",
       "      <td>5.816063e+18</td>\n",
       "      <td>99</td>\n",
       "      <td>-4.971051e+17</td>\n",
       "      <td>-5.721370e+17</td>\n",
       "      <td>-5.341787e+17</td>\n",
       "      <td>-5.411506e+17</td>\n",
       "      <td>-5.885541e+17</td>\n",
       "      <td>-5.466251e+17</td>\n",
       "      <td>3.176796e+16</td>\n",
       "    </tr>\n",
       "    <tr>\n",
       "      <th>99</th>\n",
       "      <td>0.003622</td>\n",
       "      <td>0.004482</td>\n",
       "      <td>0.002013</td>\n",
       "      <td>0.003116</td>\n",
       "      <td>100000000.0</td>\n",
       "      <td>{'alpha': 100000000.0}</td>\n",
       "      <td>-1.548909e+19</td>\n",
       "      <td>-5.313944e+17</td>\n",
       "      <td>-7.431703e+17</td>\n",
       "      <td>-6.654787e+17</td>\n",
       "      <td>...</td>\n",
       "      <td>-3.576493e+18</td>\n",
       "      <td>5.957157e+18</td>\n",
       "      <td>100</td>\n",
       "      <td>-4.979964e+17</td>\n",
       "      <td>-5.784281e+17</td>\n",
       "      <td>-5.406453e+17</td>\n",
       "      <td>-5.485021e+17</td>\n",
       "      <td>-5.955597e+17</td>\n",
       "      <td>-5.522263e+17</td>\n",
       "      <td>3.362495e+16</td>\n",
       "    </tr>\n",
       "  </tbody>\n",
       "</table>\n",
       "<p>100 rows × 21 columns</p>\n",
       "</div>"
      ],
      "text/plain": [
       "    mean_fit_time  std_fit_time  mean_score_time  std_score_time  \\\n",
       "0        0.004968      0.002594         0.001200        0.000980   \n",
       "1        0.006249      0.007653         0.000000        0.000000   \n",
       "2        0.011168      0.006149         0.000399        0.000798   \n",
       "3        0.006116      0.005820         0.002234        0.002289   \n",
       "4        0.013899      0.003446         0.000000        0.000000   \n",
       "..            ...           ...              ...             ...   \n",
       "95       0.004420      0.004647         0.001604        0.003208   \n",
       "96       0.001610      0.003220         0.003624        0.003688   \n",
       "97       0.002418      0.003906         0.000000        0.000000   \n",
       "98       0.004421      0.003889         0.002008        0.003107   \n",
       "99       0.003622      0.004482         0.002013        0.003116   \n",
       "\n",
       "        param_alpha                             params  split0_test_score  \\\n",
       "0               0.0                   {'alpha': 1e-08}      -1.000769e+19   \n",
       "1               0.0  {'alpha': 1.4508287784959402e-08}      -1.000769e+19   \n",
       "2               0.0   {'alpha': 2.104904144512022e-08}      -1.000769e+19   \n",
       "3               0.0   {'alpha': 3.053855508833412e-08}      -1.000769e+19   \n",
       "4               0.0  {'alpha': 4.4306214575838774e-08}      -1.000769e+19   \n",
       "..              ...                                ...                ...   \n",
       "95  22570197.196339       {'alpha': 22570197.19633926}      -1.372246e+19   \n",
       "96  32745491.628777      {'alpha': 32745491.628777318}      -1.403229e+19   \n",
       "97  47508101.621028      {'alpha': 47508101.621028125}      -1.449050e+19   \n",
       "98  68926121.043497       {'alpha': 68926121.04349709}      -1.513057e+19   \n",
       "99      100000000.0             {'alpha': 100000000.0}      -1.548909e+19   \n",
       "\n",
       "    split1_test_score  split2_test_score  split3_test_score  ...  \\\n",
       "0       -4.521354e+17      -5.602648e+17      -5.446985e+17  ...   \n",
       "1       -4.521354e+17      -5.602648e+17      -5.446985e+17  ...   \n",
       "2       -4.521354e+17      -5.602648e+17      -5.446985e+17  ...   \n",
       "3       -4.521354e+17      -5.602648e+17      -5.446985e+17  ...   \n",
       "4       -4.521354e+17      -5.602648e+17      -5.446985e+17  ...   \n",
       "..                ...                ...                ...  ...   \n",
       "95      -5.293196e+17      -7.004913e+17      -6.607538e+17  ...   \n",
       "96      -5.290995e+17      -7.054859e+17      -6.600150e+17  ...   \n",
       "97      -5.290452e+17      -7.130617e+17      -6.596746e+17  ...   \n",
       "98      -5.295245e+17      -7.247494e+17      -6.607206e+17  ...   \n",
       "99      -5.313944e+17      -7.431703e+17      -6.654787e+17  ...   \n",
       "\n",
       "    mean_test_score  std_test_score  rank_test_score  split0_train_score  \\\n",
       "0     -2.389736e+18    3.809516e+18                3       -4.101373e+17   \n",
       "1     -2.389736e+18    3.809516e+18                7       -4.101373e+17   \n",
       "2     -2.389736e+18    3.809516e+18               10       -4.101373e+17   \n",
       "3     -2.389736e+18    3.809516e+18                9       -4.101373e+17   \n",
       "4     -2.389736e+18    3.809516e+18               13       -4.101373e+17   \n",
       "..              ...             ...              ...                 ...   \n",
       "95    -3.214923e+18    5.254478e+18               96       -4.909635e+17   \n",
       "96    -3.277268e+18    5.378235e+18               97       -4.918218e+17   \n",
       "97    -3.369839e+18    5.561075e+18               98       -4.936282e+17   \n",
       "98    -3.499998e+18    5.816063e+18               99       -4.971051e+17   \n",
       "99    -3.576493e+18    5.957157e+18              100       -4.979964e+17   \n",
       "\n",
       "    split1_train_score  split2_train_score  split3_train_score  \\\n",
       "0        -4.665496e+17       -4.406621e+17       -4.445249e+17   \n",
       "1        -4.665496e+17       -4.406621e+17       -4.445249e+17   \n",
       "2        -4.665496e+17       -4.406621e+17       -4.445249e+17   \n",
       "3        -4.665496e+17       -4.406621e+17       -4.445249e+17   \n",
       "4        -4.665496e+17       -4.406621e+17       -4.445249e+17   \n",
       "..                 ...                 ...                 ...   \n",
       "95       -5.670539e+17       -5.289538e+17       -5.352102e+17   \n",
       "96       -5.677285e+17       -5.296472e+17       -5.359985e+17   \n",
       "97       -5.691485e+17       -5.311065e+17       -5.376578e+17   \n",
       "98       -5.721370e+17       -5.341787e+17       -5.411506e+17   \n",
       "99       -5.784281e+17       -5.406453e+17       -5.485021e+17   \n",
       "\n",
       "    split4_train_score  mean_train_score  std_train_score  \n",
       "0        -4.839554e+17     -4.491658e+17     2.501835e+16  \n",
       "1        -4.839554e+17     -4.491658e+17     2.501835e+16  \n",
       "2        -4.839554e+17     -4.491658e+17     2.501835e+16  \n",
       "3        -4.839554e+17     -4.491658e+17     2.501835e+16  \n",
       "4        -4.839554e+17     -4.491658e+17     2.501835e+16  \n",
       "..                 ...               ...              ...  \n",
       "95       -5.828938e+17     -5.410150e+17     3.198807e+16  \n",
       "96       -5.836450e+17     -5.417682e+17     3.194510e+16  \n",
       "97       -5.852259e+17     -5.433534e+17     3.185504e+16  \n",
       "98       -5.885541e+17     -5.466251e+17     3.176796e+16  \n",
       "99       -5.955597e+17     -5.522263e+17     3.362495e+16  \n",
       "\n",
       "[100 rows x 21 columns]"
      ]
     },
     "execution_count": 140,
     "metadata": {},
     "output_type": "execute_result"
    }
   ],
   "source": [
    "pd.DataFrame(bla.cv_results_)"
   ]
  },
  {
   "cell_type": "markdown",
   "metadata": {},
   "source": [
    "## **Ridge CV**"
   ]
  },
  {
   "cell_type": "code",
   "execution_count": 118,
   "metadata": {},
   "outputs": [
    {
     "name": "stdout",
     "output_type": "stream",
     "text": [
      "Fitting 5 folds for each of 100 candidates, totalling 500 fits\n"
     ]
    }
   ],
   "source": [
    "folds = KFold(n_splits = 5, shuffle = True, random_state = 100)\n",
    "Ridge_params = {'alpha':np.logspace(-8, 8, 100)}\n",
    "Ridge= linear_model.Ridge()\n",
    "\n",
    "            \n",
    "model2_cv = GridSearchCV(estimator = Ridge, \n",
    "                        param_grid = Ridge_params, \n",
    "                        scoring='neg_mean_squared_error', \n",
    "                        cv = folds, \n",
    "                        verbose = 1,\n",
    "                        return_train_score=True\n",
    "                       ,n_jobs=10)      \n",
    "bla2=model2_cv.fit(x_train, y_train)  "
   ]
  },
  {
   "cell_type": "code",
   "execution_count": 120,
   "metadata": {},
   "outputs": [
    {
     "data": {
      "text/plain": [
       "Ridge(alpha=9111.627561154906)"
      ]
     },
     "execution_count": 120,
     "metadata": {},
     "output_type": "execute_result"
    }
   ],
   "source": [
    "bla2.best_estimator_"
   ]
  },
  {
   "cell_type": "code",
   "execution_count": 121,
   "metadata": {},
   "outputs": [
    {
     "data": {
      "text/plain": [
       "1.0149229389884774e+18"
      ]
     },
     "execution_count": 121,
     "metadata": {},
     "output_type": "execute_result"
    }
   ],
   "source": [
    "mse(y_test, bla2.predict(x_test))"
   ]
  },
  {
   "cell_type": "code",
   "execution_count": 122,
   "metadata": {},
   "outputs": [
    {
     "data": {
      "text/plain": [
       "2.0961153848592276e+18"
      ]
     },
     "execution_count": 122,
     "metadata": {},
     "output_type": "execute_result"
    }
   ],
   "source": [
    "mse(y_train, bla2.predict(x_train))"
   ]
  },
  {
   "cell_type": "markdown",
   "metadata": {},
   "source": [
    "## **General function**"
   ]
  },
  {
   "cell_type": "code",
   "execution_count": 123,
   "metadata": {},
   "outputs": [],
   "source": [
    "def entrenar_modelo(modelo,grid,data,nombre):\n",
    "\n",
    "    x_train, x_test, y_train, y_test = train_test_split(data.drop(columns=['malignant']),data['malignant'], test_size=0.30,\n",
    "                                                    random_state=28888888,\n",
    "                                                    shuffle=True)\n",
    "\n",
    "    gsearch = GridSearchCV(estimator = modelo,\n",
    "                           param_grid = grid,                         \n",
    "                           scoring='neg_mean_squared_error', \n",
    "                           cv = 5,\n",
    "                           n_jobs = -1,\n",
    "                           verbose = 1)\n",
    "    model=gsearch.fit(x_train,y_train)\n",
    "    mejor_estimador=bla2.best_estimator_\n",
    "    in_sample=mse(y_test, bla2.predict(x_test))\n",
    "    out_of_sample=mse(y_train, bla2.predict(x_train))\n",
    "\n",
    "   \n",
    "\n",
    "    \n",
    "    return model,in_sample,mejor_estimador"
   ]
  },
  {
   "cell_type": "code",
   "execution_count": null,
   "metadata": {},
   "outputs": [],
   "source": []
  }
 ],
 "metadata": {
  "kernelspec": {
   "display_name": "Python 3",
   "language": "python",
   "name": "python3"
  },
  "language_info": {
   "codemirror_mode": {
    "name": "ipython",
    "version": 3
   },
   "file_extension": ".py",
   "mimetype": "text/x-python",
   "name": "python",
   "nbconvert_exporter": "python",
   "pygments_lexer": "ipython3",
   "version": "3.7.6"
  },
  "toc": {
   "base_numbering": 1,
   "nav_menu": {},
   "number_sections": true,
   "sideBar": true,
   "skip_h1_title": false,
   "title_cell": "Table of Contents",
   "title_sidebar": "Contents",
   "toc_cell": false,
   "toc_position": {},
   "toc_section_display": true,
   "toc_window_display": false
  }
 },
 "nbformat": 4,
 "nbformat_minor": 4
}
