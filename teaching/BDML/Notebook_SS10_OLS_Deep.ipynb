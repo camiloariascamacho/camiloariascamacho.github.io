{
 "cells": [
  {
   "cell_type": "markdown",
   "metadata": {},
   "source": [
    "<div >\n",
    "<img src = \"figures_notebook/banner.png\" />\n",
    "</div>"
   ]
  },
  {
   "cell_type": "markdown",
   "metadata": {
    "id": "rR7vgyD8652M"
   },
   "source": [
    "# Cuando usar Deeplearning?"
   ]
  },
  {
   "cell_type": "markdown",
   "metadata": {},
   "source": [
    "The goal is to predict the Salary of a baseball player in 1987 using his performance statistics from 1986. "
   ]
  },
  {
   "cell_type": "code",
   "execution_count": 1,
   "metadata": {
    "vscode": {
     "languageId": "r"
    }
   },
   "outputs": [],
   "source": [
    "# install.packages(\"pacman\") #run this line if you use Google Colab"
   ]
  },
  {
   "cell_type": "code",
   "execution_count": 2,
   "metadata": {
    "colab": {
     "base_uri": "https://localhost:8080/"
    },
    "id": "SDsCl59z69jP",
    "outputId": "3b14ea5b-c0cb-4189-b377-e9f171e15296",
    "vscode": {
     "languageId": "r"
    }
   },
   "outputs": [
    {
     "name": "stderr",
     "output_type": "stream",
     "text": [
      "Loading required package: pacman\n",
      "\n"
     ]
    }
   ],
   "source": [
    "require(\"pacman\")\n",
    "p_load(\"ISLR2\",\"keras\")\n",
    "\n",
    "Gitters <- na.omit(Hitters)\n",
    "n <- nrow(Gitters)\n",
    "set.seed(13)\n",
    "ntest <- trunc(n / 3)\n",
    "testid <- sample(1:n, ntest)\n"
   ]
  },
  {
   "cell_type": "code",
   "execution_count": 3,
   "metadata": {
    "vscode": {
     "languageId": "r"
    }
   },
   "outputs": [
    {
     "data": {
      "text/html": [
       "<table class=\"dataframe\">\n",
       "<caption>A data.frame: 6 × 20</caption>\n",
       "<thead>\n",
       "\t<tr><th></th><th scope=col>AtBat</th><th scope=col>Hits</th><th scope=col>HmRun</th><th scope=col>Runs</th><th scope=col>RBI</th><th scope=col>Walks</th><th scope=col>Years</th><th scope=col>CAtBat</th><th scope=col>CHits</th><th scope=col>CHmRun</th><th scope=col>CRuns</th><th scope=col>CRBI</th><th scope=col>CWalks</th><th scope=col>League</th><th scope=col>Division</th><th scope=col>PutOuts</th><th scope=col>Assists</th><th scope=col>Errors</th><th scope=col>Salary</th><th scope=col>NewLeague</th></tr>\n",
       "\t<tr><th></th><th scope=col>&lt;int&gt;</th><th scope=col>&lt;int&gt;</th><th scope=col>&lt;int&gt;</th><th scope=col>&lt;int&gt;</th><th scope=col>&lt;int&gt;</th><th scope=col>&lt;int&gt;</th><th scope=col>&lt;int&gt;</th><th scope=col>&lt;int&gt;</th><th scope=col>&lt;int&gt;</th><th scope=col>&lt;int&gt;</th><th scope=col>&lt;int&gt;</th><th scope=col>&lt;int&gt;</th><th scope=col>&lt;int&gt;</th><th scope=col>&lt;fct&gt;</th><th scope=col>&lt;fct&gt;</th><th scope=col>&lt;int&gt;</th><th scope=col>&lt;int&gt;</th><th scope=col>&lt;int&gt;</th><th scope=col>&lt;dbl&gt;</th><th scope=col>&lt;fct&gt;</th></tr>\n",
       "</thead>\n",
       "<tbody>\n",
       "\t<tr><th scope=row>-Alan Ashby</th><td>315</td><td> 81</td><td> 7</td><td>24</td><td>38</td><td>39</td><td>14</td><td>3449</td><td> 835</td><td> 69</td><td>321</td><td>414</td><td>375</td><td>N</td><td>W</td><td>632</td><td> 43</td><td>10</td><td>475.0</td><td>N</td></tr>\n",
       "\t<tr><th scope=row>-Alvin Davis</th><td>479</td><td>130</td><td>18</td><td>66</td><td>72</td><td>76</td><td> 3</td><td>1624</td><td> 457</td><td> 63</td><td>224</td><td>266</td><td>263</td><td>A</td><td>W</td><td>880</td><td> 82</td><td>14</td><td>480.0</td><td>A</td></tr>\n",
       "\t<tr><th scope=row>-Andre Dawson</th><td>496</td><td>141</td><td>20</td><td>65</td><td>78</td><td>37</td><td>11</td><td>5628</td><td>1575</td><td>225</td><td>828</td><td>838</td><td>354</td><td>N</td><td>E</td><td>200</td><td> 11</td><td> 3</td><td>500.0</td><td>N</td></tr>\n",
       "\t<tr><th scope=row>-Andres Galarraga</th><td>321</td><td> 87</td><td>10</td><td>39</td><td>42</td><td>30</td><td> 2</td><td> 396</td><td> 101</td><td> 12</td><td> 48</td><td> 46</td><td> 33</td><td>N</td><td>E</td><td>805</td><td> 40</td><td> 4</td><td> 91.5</td><td>N</td></tr>\n",
       "\t<tr><th scope=row>-Al Newman</th><td>185</td><td> 37</td><td> 1</td><td>23</td><td> 8</td><td>21</td><td> 2</td><td> 214</td><td>  42</td><td>  1</td><td> 30</td><td>  9</td><td> 24</td><td>N</td><td>E</td><td> 76</td><td>127</td><td> 7</td><td> 70.0</td><td>A</td></tr>\n",
       "\t<tr><th scope=row>-Andres Thomas</th><td>323</td><td> 81</td><td> 6</td><td>26</td><td>32</td><td> 8</td><td> 2</td><td> 341</td><td>  86</td><td>  6</td><td> 32</td><td> 34</td><td>  8</td><td>N</td><td>W</td><td>143</td><td>290</td><td>19</td><td> 75.0</td><td>N</td></tr>\n",
       "</tbody>\n",
       "</table>\n"
      ],
      "text/latex": [
       "A data.frame: 6 × 20\n",
       "\\begin{tabular}{r|llllllllllllllllllll}\n",
       "  & AtBat & Hits & HmRun & Runs & RBI & Walks & Years & CAtBat & CHits & CHmRun & CRuns & CRBI & CWalks & League & Division & PutOuts & Assists & Errors & Salary & NewLeague\\\\\n",
       "  & <int> & <int> & <int> & <int> & <int> & <int> & <int> & <int> & <int> & <int> & <int> & <int> & <int> & <fct> & <fct> & <int> & <int> & <int> & <dbl> & <fct>\\\\\n",
       "\\hline\n",
       "\t-Alan Ashby & 315 &  81 &  7 & 24 & 38 & 39 & 14 & 3449 &  835 &  69 & 321 & 414 & 375 & N & W & 632 &  43 & 10 & 475.0 & N\\\\\n",
       "\t-Alvin Davis & 479 & 130 & 18 & 66 & 72 & 76 &  3 & 1624 &  457 &  63 & 224 & 266 & 263 & A & W & 880 &  82 & 14 & 480.0 & A\\\\\n",
       "\t-Andre Dawson & 496 & 141 & 20 & 65 & 78 & 37 & 11 & 5628 & 1575 & 225 & 828 & 838 & 354 & N & E & 200 &  11 &  3 & 500.0 & N\\\\\n",
       "\t-Andres Galarraga & 321 &  87 & 10 & 39 & 42 & 30 &  2 &  396 &  101 &  12 &  48 &  46 &  33 & N & E & 805 &  40 &  4 &  91.5 & N\\\\\n",
       "\t-Al Newman & 185 &  37 &  1 & 23 &  8 & 21 &  2 &  214 &   42 &   1 &  30 &   9 &  24 & N & E &  76 & 127 &  7 &  70.0 & A\\\\\n",
       "\t-Andres Thomas & 323 &  81 &  6 & 26 & 32 &  8 &  2 &  341 &   86 &   6 &  32 &  34 &   8 & N & W & 143 & 290 & 19 &  75.0 & N\\\\\n",
       "\\end{tabular}\n"
      ],
      "text/markdown": [
       "\n",
       "A data.frame: 6 × 20\n",
       "\n",
       "| <!--/--> | AtBat &lt;int&gt; | Hits &lt;int&gt; | HmRun &lt;int&gt; | Runs &lt;int&gt; | RBI &lt;int&gt; | Walks &lt;int&gt; | Years &lt;int&gt; | CAtBat &lt;int&gt; | CHits &lt;int&gt; | CHmRun &lt;int&gt; | CRuns &lt;int&gt; | CRBI &lt;int&gt; | CWalks &lt;int&gt; | League &lt;fct&gt; | Division &lt;fct&gt; | PutOuts &lt;int&gt; | Assists &lt;int&gt; | Errors &lt;int&gt; | Salary &lt;dbl&gt; | NewLeague &lt;fct&gt; |\n",
       "|---|---|---|---|---|---|---|---|---|---|---|---|---|---|---|---|---|---|---|---|---|\n",
       "| -Alan Ashby | 315 |  81 |  7 | 24 | 38 | 39 | 14 | 3449 |  835 |  69 | 321 | 414 | 375 | N | W | 632 |  43 | 10 | 475.0 | N |\n",
       "| -Alvin Davis | 479 | 130 | 18 | 66 | 72 | 76 |  3 | 1624 |  457 |  63 | 224 | 266 | 263 | A | W | 880 |  82 | 14 | 480.0 | A |\n",
       "| -Andre Dawson | 496 | 141 | 20 | 65 | 78 | 37 | 11 | 5628 | 1575 | 225 | 828 | 838 | 354 | N | E | 200 |  11 |  3 | 500.0 | N |\n",
       "| -Andres Galarraga | 321 |  87 | 10 | 39 | 42 | 30 |  2 |  396 |  101 |  12 |  48 |  46 |  33 | N | E | 805 |  40 |  4 |  91.5 | N |\n",
       "| -Al Newman | 185 |  37 |  1 | 23 |  8 | 21 |  2 |  214 |   42 |   1 |  30 |   9 |  24 | N | E |  76 | 127 |  7 |  70.0 | A |\n",
       "| -Andres Thomas | 323 |  81 |  6 | 26 | 32 |  8 |  2 |  341 |   86 |   6 |  32 |  34 |   8 | N | W | 143 | 290 | 19 |  75.0 | N |\n",
       "\n"
      ],
      "text/plain": [
       "                  AtBat Hits HmRun Runs RBI Walks Years CAtBat CHits CHmRun\n",
       "-Alan Ashby       315    81   7    24   38  39    14    3449    835   69   \n",
       "-Alvin Davis      479   130  18    66   72  76     3    1624    457   63   \n",
       "-Andre Dawson     496   141  20    65   78  37    11    5628   1575  225   \n",
       "-Andres Galarraga 321    87  10    39   42  30     2     396    101   12   \n",
       "-Al Newman        185    37   1    23    8  21     2     214     42    1   \n",
       "-Andres Thomas    323    81   6    26   32   8     2     341     86    6   \n",
       "                  CRuns CRBI CWalks League Division PutOuts Assists Errors\n",
       "-Alan Ashby       321   414  375    N      W        632      43     10    \n",
       "-Alvin Davis      224   266  263    A      W        880      82     14    \n",
       "-Andre Dawson     828   838  354    N      E        200      11      3    \n",
       "-Andres Galarraga  48    46   33    N      E        805      40      4    \n",
       "-Al Newman         30     9   24    N      E         76     127      7    \n",
       "-Andres Thomas     32    34    8    N      W        143     290     19    \n",
       "                  Salary NewLeague\n",
       "-Alan Ashby       475.0  N        \n",
       "-Alvin Davis      480.0  A        \n",
       "-Andre Dawson     500.0  N        \n",
       "-Andres Galarraga  91.5  N        \n",
       "-Al Newman         70.0  A        \n",
       "-Andres Thomas     75.0  N        "
      ]
     },
     "metadata": {},
     "output_type": "display_data"
    }
   ],
   "source": [
    "head(Gitters[-testid, ])"
   ]
  },
  {
   "cell_type": "markdown",
   "metadata": {
    "id": "D3NiXakb7Cot"
   },
   "source": [
    "## OLS\n",
    "\n",
    "We begin with a linear model to fit the training data, and make predictions on the test data. The model has 20 parameters."
   ]
  },
  {
   "cell_type": "code",
   "execution_count": 4,
   "metadata": {
    "colab": {
     "base_uri": "https://localhost:8080/",
     "height": 34
    },
    "id": "GZM1QR0S7CWT",
    "outputId": "1c83f42e-720d-418e-cdf8-6aa16ffead6c",
    "vscode": {
     "languageId": "r"
    }
   },
   "outputs": [
    {
     "data": {
      "text/plain": [
       "\n",
       "Call:\n",
       "lm(formula = Salary ~ ., data = Gitters[-testid, ])\n",
       "\n",
       "Residuals:\n",
       "    Min      1Q  Median      3Q     Max \n",
       "-741.19 -178.38  -35.56  126.66 1788.49 \n",
       "\n",
       "Coefficients:\n",
       "             Estimate Std. Error t value Pr(>|t|)   \n",
       "(Intercept)  208.4773   116.8454   1.784  0.07633 . \n",
       "AtBat         -1.6710     0.8002  -2.088  0.03840 * \n",
       "Hits           5.6020     3.0260   1.851  0.06602 . \n",
       "HmRun         16.4724     8.0076   2.057  0.04134 * \n",
       "Runs          -1.4194     3.9696  -0.358  0.72115   \n",
       "RBI           -4.2062     3.4562  -1.217  0.22544   \n",
       "Walks          7.6626     2.3529   3.257  0.00138 **\n",
       "Years         -1.0588    16.3828  -0.065  0.94855   \n",
       "CAtBat        -0.1222     0.1727  -0.708  0.48030   \n",
       "CHits          0.3250     0.8296   0.392  0.69580   \n",
       "CHmRun        -1.0436     2.0797  -0.502  0.61651   \n",
       "CRuns          0.6036     0.9954   0.606  0.54512   \n",
       "CRBI           0.7710     0.8915   0.865  0.38846   \n",
       "CWalks        -0.5362     0.4149  -1.292  0.19813   \n",
       "LeagueN       53.8149    86.0297   0.626  0.53253   \n",
       "DivisionW   -124.9502    50.8945  -2.455  0.01518 * \n",
       "PutOuts        0.1920     0.1024   1.875  0.06270 . \n",
       "Assists        0.7267     0.2721   2.671  0.00837 **\n",
       "Errors        -9.0406     5.4171  -1.669  0.09714 . \n",
       "NewLeagueN   -16.8313    85.9127  -0.196  0.84493   \n",
       "---\n",
       "Signif. codes:  0 ‘***’ 0.001 ‘**’ 0.01 ‘*’ 0.05 ‘.’ 0.1 ‘ ’ 1\n",
       "\n",
       "Residual standard error: 323.4 on 156 degrees of freedom\n",
       "Multiple R-squared:  0.4613,\tAdjusted R-squared:  0.3957 \n",
       "F-statistic: 7.031 on 19 and 156 DF,  p-value: 2.944e-13\n"
      ]
     },
     "metadata": {},
     "output_type": "display_data"
    }
   ],
   "source": [
    "\n",
    "lfit <- lm(Salary ~ ., data = Gitters[-testid, ])\n",
    "summary(lfit)"
   ]
  },
  {
   "cell_type": "code",
   "execution_count": 5,
   "metadata": {
    "vscode": {
     "languageId": "r"
    }
   },
   "outputs": [
    {
     "data": {
      "text/html": [
       "254.668652883752"
      ],
      "text/latex": [
       "254.668652883752"
      ],
      "text/markdown": [
       "254.668652883752"
      ],
      "text/plain": [
       "[1] 254.6687"
      ]
     },
     "metadata": {},
     "output_type": "display_data"
    }
   ],
   "source": [
    "lpred <- predict(lfit, Gitters[testid, ])\n",
    "\n",
    "#MAE\n",
    "with(Gitters[testid, ], mean(abs(lpred - Salary)))\n"
   ]
  },
  {
   "cell_type": "markdown",
   "metadata": {
    "id": "xemB33rg7HrQ"
   },
   "source": [
    "## Lasso\n",
    "\n",
    "The same linear model but with lasso regularization. The tuning parameter will be selected by 10-fold cross-validation on the training data."
   ]
  },
  {
   "cell_type": "code",
   "execution_count": 6,
   "metadata": {
    "colab": {
     "base_uri": "https://localhost:8080/",
     "height": 382
    },
    "id": "Qj8OVTiV7H2x",
    "outputId": "333aa683-dc4f-4226-8fff-4a7bafef3c9f",
    "vscode": {
     "languageId": "r"
    }
   },
   "outputs": [
    {
     "data": {
      "text/plain": [
       "\n",
       "Call:  cv.glmnet(x = x[-testid, ], y = y[-testid], type.measure = \"mae\") \n",
       "\n",
       "Measure: Mean Absolute Error \n",
       "\n",
       "    Lambda Index Measure    SE Nonzero\n",
       "min   6.25    39   236.6 29.74      13\n",
       "1se  70.18    13   264.7 26.31       6"
      ]
     },
     "metadata": {},
     "output_type": "display_data"
    }
   ],
   "source": [
    "p_load(\"glmnet\")\n",
    "\n",
    "x <- scale(model.matrix(Salary ~ . - 1, data = Gitters))\n",
    "y <- Gitters$Salary\n",
    "cvfit <- cv.glmnet(x[-testid, ], y[-testid],\n",
    "                   type.measure = \"mae\")\n",
    "\n",
    "\n",
    "cvfit"
   ]
  },
  {
   "cell_type": "code",
   "execution_count": 7,
   "metadata": {
    "vscode": {
     "languageId": "r"
    }
   },
   "outputs": [
    {
     "data": {
      "text/plain": [
       "21 x 1 sparse Matrix of class \"dgCMatrix\"\n",
       "                    s1\n",
       "(Intercept) 530.701335\n",
       "AtBat         .       \n",
       "Hits         10.577456\n",
       "HmRun         1.257239\n",
       "Runs          .       \n",
       "RBI           5.074517\n",
       "Walks        57.358689\n",
       "Years         .       \n",
       "CAtBat        .       \n",
       "CHits        35.712624\n",
       "CHmRun        .       \n",
       "CRuns        85.386016\n",
       "CRBI          .       \n",
       "CWalks        .       \n",
       "LeagueA       .       \n",
       "LeagueN       .       \n",
       "DivisionW     .       \n",
       "PutOuts       .       \n",
       "Assists       .       \n",
       "Errors        .       \n",
       "NewLeagueN    .       "
      ]
     },
     "metadata": {},
     "output_type": "display_data"
    }
   ],
   "source": [
    "coef(cvfit)"
   ]
  },
  {
   "cell_type": "code",
   "execution_count": 8,
   "metadata": {
    "vscode": {
     "languageId": "r"
    }
   },
   "outputs": [
    {
     "data": {
      "text/html": [
       "252.299368267613"
      ],
      "text/latex": [
       "252.299368267613"
      ],
      "text/markdown": [
       "252.299368267613"
      ],
      "text/plain": [
       "[1] 252.2994"
      ]
     },
     "metadata": {},
     "output_type": "display_data"
    }
   ],
   "source": [
    "cpred <- predict(cvfit, x[testid, ], s = \"lambda.min\")\n",
    "\n",
    "# MAE\n",
    "mean(abs(y[testid] - cpred))"
   ]
  },
  {
   "cell_type": "markdown",
   "metadata": {
    "id": "Cc8kF9kb7bjQ"
   },
   "source": [
    "## Redes Neuronales\n",
    "\n",
    "A neural network with one hidden layer consisting of 64 ReLU units was fit to the data."
   ]
  },
  {
   "cell_type": "code",
   "execution_count": 9,
   "metadata": {
    "colab": {
     "base_uri": "https://localhost:8080/",
     "height": 34
    },
    "id": "J0Eb61-67Zd7",
    "outputId": "582ab30a-7117-4919-8f78-6c8a396d67bb",
    "vscode": {
     "languageId": "r"
    }
   },
   "outputs": [],
   "source": [
    "modnn <- keras_model_sequential() %>%\n",
    "  layer_dense(units = 50, activation = \"relu\",\n",
    "              input_shape = ncol(x)) %>%\n",
    "  layer_dropout(rate = 0.4) %>%\n",
    "  layer_dense(units = 1)\n",
    "\n",
    "x <- scale(model.matrix(Salary ~ . - 1, data = Gitters))\n",
    "x <- model.matrix(Salary ~ . - 1, data = Gitters) %>% scale()\n",
    "\n",
    "modnn %>% compile(loss = \"mse\",\n",
    "                  optimizer = optimizer_rmsprop(),\n",
    "                  metrics = list(\"mean_absolute_error\")\n",
    ")\n",
    "\n",
    "history <- modnn %>% fit(\n",
    "  x[-testid, ], y[-testid], epochs = 600, batch_size = 32,\n",
    "  validation_data = list(x[testid, ], y[testid])\n",
    ")\n",
    "\n",
    "npred <- predict(modnn, x[testid, ])\n",
    "\n"
   ]
  },
  {
   "cell_type": "code",
   "execution_count": 10,
   "metadata": {
    "vscode": {
     "languageId": "r"
    }
   },
   "outputs": [
    {
     "name": "stdout",
     "output_type": "stream",
     "text": [
      "Model: \"sequential\"\n",
      "________________________________________________________________________________\n",
      "Layer (type)                        Output Shape                    Param #     \n",
      "================================================================================\n",
      "dense_1 (Dense)                     (None, 50)                      1050        \n",
      "________________________________________________________________________________\n",
      "dropout (Dropout)                   (None, 50)                      0           \n",
      "________________________________________________________________________________\n",
      "dense (Dense)                       (None, 1)                       51          \n",
      "================================================================================\n",
      "Total params: 1,101\n",
      "Trainable params: 1,101\n",
      "Non-trainable params: 0\n",
      "________________________________________________________________________________\n"
     ]
    }
   ],
   "source": [
    "summary(modnn)"
   ]
  },
  {
   "cell_type": "code",
   "execution_count": 11,
   "metadata": {
    "scrolled": true,
    "vscode": {
     "languageId": "r"
    }
   },
   "outputs": [
    {
     "data": {
      "text/html": [
       "259.62053870576"
      ],
      "text/latex": [
       "259.62053870576"
      ],
      "text/markdown": [
       "259.62053870576"
      ],
      "text/plain": [
       "[1] 259.6205"
      ]
     },
     "metadata": {},
     "output_type": "display_data"
    }
   ],
   "source": [
    "#MAE\n",
    "mean(abs(y[testid] - npred))"
   ]
  },
  {
   "cell_type": "markdown",
   "metadata": {},
   "source": [
    "So in cases like this we are much better off following the Occam’s razor principle: when faced with several methods that give roughly equivalent performance, pick the simplest."
   ]
  }
 ],
 "metadata": {
  "accelerator": "TPU",
  "colab": {
   "authorship_tag": "ABX9TyN44b+botaWmeiTQ/7e9hxl",
   "include_colab_link": true,
   "provenance": []
  },
  "gpuClass": "standard",
  "kernelspec": {
   "display_name": "R",
   "language": "R",
   "name": "ir"
  },
  "language_info": {
   "codemirror_mode": "r",
   "file_extension": ".r",
   "mimetype": "text/x-r-source",
   "name": "R",
   "pygments_lexer": "r",
   "version": "4.3.0"
  },
  "toc": {
   "base_numbering": 1,
   "nav_menu": {},
   "number_sections": true,
   "sideBar": true,
   "skip_h1_title": false,
   "title_cell": "Table of Contents",
   "title_sidebar": "Contents",
   "toc_cell": false,
   "toc_position": {},
   "toc_section_display": true,
   "toc_window_display": false
  }
 },
 "nbformat": 4,
 "nbformat_minor": 1
}
