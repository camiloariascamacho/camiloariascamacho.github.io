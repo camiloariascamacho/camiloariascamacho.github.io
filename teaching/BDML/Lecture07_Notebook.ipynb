{
 "cells": [
  {
   "cell_type": "markdown",
   "id": "b0efa741",
   "metadata": {},
   "source": [
    "# Clase 7: Big Data and Machine Learning en el Mercado Inmobiliario. Educación Continua\n",
    "\n",
    "\n",
    "El siguiente  cuaderno limpia los datos que use durante la clase teórica e implementa lo mostrado en clase."
   ]
  },
  {
   "cell_type": "code",
   "execution_count": 1,
   "id": "84945d46",
   "metadata": {},
   "outputs": [],
   "source": [
    "#cargar librerias\n",
    "import pandas as pd \n",
    "import numpy as np"
   ]
  },
  {
   "cell_type": "markdown",
   "id": "1a77f2c0",
   "metadata": {},
   "source": [
    "Cargo los datos que vienen de  <a href='https://www.properati.com.co'>Properati</a> y fueron descargados el 26 de Marzo de 2022."
   ]
  },
  {
   "cell_type": "code",
   "execution_count": 2,
   "id": "a53d0324",
   "metadata": {},
   "outputs": [],
   "source": [
    "df = pd.read_csv('co_properties.csv.gz', compression='gzip', header=0,    sep=',', quotechar='\"')"
   ]
  },
  {
   "cell_type": "code",
   "execution_count": 3,
   "id": "f143ba9f",
   "metadata": {
    "jupyter": {
     "outputs_hidden": true
    }
   },
   "outputs": [
    {
     "data": {
      "text/html": [
       "<div>\n",
       "<style scoped>\n",
       "    .dataframe tbody tr th:only-of-type {\n",
       "        vertical-align: middle;\n",
       "    }\n",
       "\n",
       "    .dataframe tbody tr th {\n",
       "        vertical-align: top;\n",
       "    }\n",
       "\n",
       "    .dataframe thead th {\n",
       "        text-align: right;\n",
       "    }\n",
       "</style>\n",
       "<table border=\"1\" class=\"dataframe\">\n",
       "  <thead>\n",
       "    <tr style=\"text-align: right;\">\n",
       "      <th></th>\n",
       "      <th>id</th>\n",
       "      <th>ad_type</th>\n",
       "      <th>start_date</th>\n",
       "      <th>end_date</th>\n",
       "      <th>created_on</th>\n",
       "      <th>lat</th>\n",
       "      <th>lon</th>\n",
       "      <th>l1</th>\n",
       "      <th>l2</th>\n",
       "      <th>l3</th>\n",
       "      <th>...</th>\n",
       "      <th>bathrooms</th>\n",
       "      <th>surface_total</th>\n",
       "      <th>surface_covered</th>\n",
       "      <th>price</th>\n",
       "      <th>currency</th>\n",
       "      <th>price_period</th>\n",
       "      <th>title</th>\n",
       "      <th>description</th>\n",
       "      <th>property_type</th>\n",
       "      <th>operation_type</th>\n",
       "    </tr>\n",
       "  </thead>\n",
       "  <tbody>\n",
       "    <tr>\n",
       "      <th>0</th>\n",
       "      <td>KsjahK62rxcYKXXQjOdkqw==</td>\n",
       "      <td>Propiedad</td>\n",
       "      <td>2020-10-07</td>\n",
       "      <td>2021-10-09</td>\n",
       "      <td>2020-10-07</td>\n",
       "      <td>3.9210</td>\n",
       "      <td>-76.506000</td>\n",
       "      <td>Colombia</td>\n",
       "      <td>Valle del Cauca</td>\n",
       "      <td>NaN</td>\n",
       "      <td>...</td>\n",
       "      <td>7.0</td>\n",
       "      <td>NaN</td>\n",
       "      <td>NaN</td>\n",
       "      <td>1.300000e+09</td>\n",
       "      <td>COP</td>\n",
       "      <td>NaN</td>\n",
       "      <td>Casa Campestre en venta en darien 3469064</td>\n",
       "      <td>HERMOSA CASA CAMPESTRE, &amp;Aacute;REA 6,000 MT, ...</td>\n",
       "      <td>Casa</td>\n",
       "      <td>Venta</td>\n",
       "    </tr>\n",
       "    <tr>\n",
       "      <th>1</th>\n",
       "      <td>Y+gsBZYq1zu5NoR3V5oUGA==</td>\n",
       "      <td>Propiedad</td>\n",
       "      <td>2020-10-07</td>\n",
       "      <td>2021-01-06</td>\n",
       "      <td>2020-10-07</td>\n",
       "      <td>3.3577</td>\n",
       "      <td>-76.541811</td>\n",
       "      <td>Colombia</td>\n",
       "      <td>Valle del Cauca</td>\n",
       "      <td>Cali</td>\n",
       "      <td>...</td>\n",
       "      <td>7.0</td>\n",
       "      <td>NaN</td>\n",
       "      <td>NaN</td>\n",
       "      <td>2.800000e+09</td>\n",
       "      <td>COP</td>\n",
       "      <td>NaN</td>\n",
       "      <td>Casa en ciudsd jardin</td>\n",
       "      <td>Casa independiente con posiciona en ciudad jar...</td>\n",
       "      <td>Casa</td>\n",
       "      <td>Venta</td>\n",
       "    </tr>\n",
       "    <tr>\n",
       "      <th>2</th>\n",
       "      <td>Jpzqxj8/Vgf3Aa5ASxUBNg==</td>\n",
       "      <td>Propiedad</td>\n",
       "      <td>2020-10-07</td>\n",
       "      <td>2020-10-07</td>\n",
       "      <td>2020-10-07</td>\n",
       "      <td>3.3577</td>\n",
       "      <td>-76.541811</td>\n",
       "      <td>Colombia</td>\n",
       "      <td>Valle del Cauca</td>\n",
       "      <td>Cali</td>\n",
       "      <td>...</td>\n",
       "      <td>7.0</td>\n",
       "      <td>NaN</td>\n",
       "      <td>NaN</td>\n",
       "      <td>2.800000e+09</td>\n",
       "      <td>COP</td>\n",
       "      <td>Mensual</td>\n",
       "      <td>Casa en ciudsd jardin</td>\n",
       "      <td>Casa independiente con posiciona en ciudad jar...</td>\n",
       "      <td>Casa</td>\n",
       "      <td>Venta</td>\n",
       "    </tr>\n",
       "    <tr>\n",
       "      <th>3</th>\n",
       "      <td>ieuFnkFx/yHDD66iMV14Gw==</td>\n",
       "      <td>Propiedad</td>\n",
       "      <td>2020-10-07</td>\n",
       "      <td>2021-04-12</td>\n",
       "      <td>2020-10-07</td>\n",
       "      <td>3.3640</td>\n",
       "      <td>-76.538000</td>\n",
       "      <td>Colombia</td>\n",
       "      <td>Valle del Cauca</td>\n",
       "      <td>Cali</td>\n",
       "      <td>...</td>\n",
       "      <td>8.0</td>\n",
       "      <td>NaN</td>\n",
       "      <td>NaN</td>\n",
       "      <td>3.500000e+09</td>\n",
       "      <td>COP</td>\n",
       "      <td>NaN</td>\n",
       "      <td>Casa en venta en pance 1630426</td>\n",
       "      <td>EXCELENTE CASA - LOTE 6,373 MT, EN OBRA GRIS U...</td>\n",
       "      <td>Casa</td>\n",
       "      <td>Venta</td>\n",
       "    </tr>\n",
       "    <tr>\n",
       "      <th>4</th>\n",
       "      <td>g4u5JM+hAHEk8SukRSjMzg==</td>\n",
       "      <td>Propiedad</td>\n",
       "      <td>2020-10-07</td>\n",
       "      <td>9999-12-31</td>\n",
       "      <td>2020-10-07</td>\n",
       "      <td>3.3910</td>\n",
       "      <td>-76.517000</td>\n",
       "      <td>Colombia</td>\n",
       "      <td>Valle del Cauca</td>\n",
       "      <td>Cali</td>\n",
       "      <td>...</td>\n",
       "      <td>9.0</td>\n",
       "      <td>NaN</td>\n",
       "      <td>NaN</td>\n",
       "      <td>4.800000e+08</td>\n",
       "      <td>COP</td>\n",
       "      <td>NaN</td>\n",
       "      <td>CASA EXTERNA BARRIO CIUDAD 2000</td>\n",
       "      <td>CASA EXTERNA EN EL BARRIO CIUDAD 2000,CONSTRUI...</td>\n",
       "      <td>Casa</td>\n",
       "      <td>Venta</td>\n",
       "    </tr>\n",
       "  </tbody>\n",
       "</table>\n",
       "<p>5 rows × 25 columns</p>\n",
       "</div>"
      ],
      "text/plain": [
       "                         id    ad_type  start_date    end_date  created_on  \\\n",
       "0  KsjahK62rxcYKXXQjOdkqw==  Propiedad  2020-10-07  2021-10-09  2020-10-07   \n",
       "1  Y+gsBZYq1zu5NoR3V5oUGA==  Propiedad  2020-10-07  2021-01-06  2020-10-07   \n",
       "2  Jpzqxj8/Vgf3Aa5ASxUBNg==  Propiedad  2020-10-07  2020-10-07  2020-10-07   \n",
       "3  ieuFnkFx/yHDD66iMV14Gw==  Propiedad  2020-10-07  2021-04-12  2020-10-07   \n",
       "4  g4u5JM+hAHEk8SukRSjMzg==  Propiedad  2020-10-07  9999-12-31  2020-10-07   \n",
       "\n",
       "      lat        lon        l1               l2    l3  ... bathrooms  \\\n",
       "0  3.9210 -76.506000  Colombia  Valle del Cauca   NaN  ...       7.0   \n",
       "1  3.3577 -76.541811  Colombia  Valle del Cauca  Cali  ...       7.0   \n",
       "2  3.3577 -76.541811  Colombia  Valle del Cauca  Cali  ...       7.0   \n",
       "3  3.3640 -76.538000  Colombia  Valle del Cauca  Cali  ...       8.0   \n",
       "4  3.3910 -76.517000  Colombia  Valle del Cauca  Cali  ...       9.0   \n",
       "\n",
       "  surface_total surface_covered         price  currency  price_period  \\\n",
       "0           NaN             NaN  1.300000e+09       COP           NaN   \n",
       "1           NaN             NaN  2.800000e+09       COP           NaN   \n",
       "2           NaN             NaN  2.800000e+09       COP       Mensual   \n",
       "3           NaN             NaN  3.500000e+09       COP           NaN   \n",
       "4           NaN             NaN  4.800000e+08       COP           NaN   \n",
       "\n",
       "                                       title  \\\n",
       "0  Casa Campestre en venta en darien 3469064   \n",
       "1                      Casa en ciudsd jardin   \n",
       "2                      Casa en ciudsd jardin   \n",
       "3             Casa en venta en pance 1630426   \n",
       "4            CASA EXTERNA BARRIO CIUDAD 2000   \n",
       "\n",
       "                                         description  property_type  \\\n",
       "0  HERMOSA CASA CAMPESTRE, &Aacute;REA 6,000 MT, ...           Casa   \n",
       "1  Casa independiente con posiciona en ciudad jar...           Casa   \n",
       "2  Casa independiente con posiciona en ciudad jar...           Casa   \n",
       "3  EXCELENTE CASA - LOTE 6,373 MT, EN OBRA GRIS U...           Casa   \n",
       "4  CASA EXTERNA EN EL BARRIO CIUDAD 2000,CONSTRUI...           Casa   \n",
       "\n",
       "  operation_type  \n",
       "0          Venta  \n",
       "1          Venta  \n",
       "2          Venta  \n",
       "3          Venta  \n",
       "4          Venta  \n",
       "\n",
       "[5 rows x 25 columns]"
      ]
     },
     "execution_count": 3,
     "metadata": {},
     "output_type": "execute_result"
    }
   ],
   "source": [
    "df.head()"
   ]
  },
  {
   "cell_type": "code",
   "execution_count": 4,
   "id": "1145f27a",
   "metadata": {},
   "outputs": [
    {
     "data": {
      "text/plain": [
       "Medellín        262856\n",
       "Bogotá D.C      171168\n",
       "Cali             95401\n",
       "Barranquilla     74801\n",
       "Bucaramanga      46595\n",
       "                 ...  \n",
       "Santiago             1\n",
       "Guateque             1\n",
       "San Alberto          1\n",
       "Iza                  1\n",
       "Ataco                1\n",
       "Name: l3, Length: 343, dtype: int64"
      ]
     },
     "execution_count": 4,
     "metadata": {},
     "output_type": "execute_result"
    }
   ],
   "source": [
    "df.l3.value_counts()"
   ]
  },
  {
   "cell_type": "markdown",
   "id": "a368d457",
   "metadata": {},
   "source": [
    "Propiedades en Bogotá"
   ]
  },
  {
   "cell_type": "code",
   "execution_count": 5,
   "id": "4de949cd",
   "metadata": {},
   "outputs": [
    {
     "data": {
      "text/plain": [
       "Bogotá D.C    171168\n",
       "Name: l3, dtype: int64"
      ]
     },
     "execution_count": 5,
     "metadata": {},
     "output_type": "execute_result"
    }
   ],
   "source": [
    "df=df[df['l3']=='Bogotá D.C']\n",
    "df.l3.value_counts()"
   ]
  },
  {
   "cell_type": "markdown",
   "id": "342e92fc",
   "metadata": {},
   "source": [
    "Propiedades que el precio esta en COP"
   ]
  },
  {
   "cell_type": "code",
   "execution_count": 6,
   "id": "6f03398f",
   "metadata": {},
   "outputs": [
    {
     "data": {
      "text/html": [
       "<div>\n",
       "<style scoped>\n",
       "    .dataframe tbody tr th:only-of-type {\n",
       "        vertical-align: middle;\n",
       "    }\n",
       "\n",
       "    .dataframe tbody tr th {\n",
       "        vertical-align: top;\n",
       "    }\n",
       "\n",
       "    .dataframe thead th {\n",
       "        text-align: right;\n",
       "    }\n",
       "</style>\n",
       "<table border=\"1\" class=\"dataframe\">\n",
       "  <thead>\n",
       "    <tr style=\"text-align: right;\">\n",
       "      <th></th>\n",
       "      <th>id</th>\n",
       "    </tr>\n",
       "    <tr>\n",
       "      <th>currency</th>\n",
       "      <th></th>\n",
       "    </tr>\n",
       "  </thead>\n",
       "  <tbody>\n",
       "    <tr>\n",
       "      <th>ARS</th>\n",
       "      <td>4</td>\n",
       "    </tr>\n",
       "    <tr>\n",
       "      <th>COP</th>\n",
       "      <td>171028</td>\n",
       "    </tr>\n",
       "    <tr>\n",
       "      <th>USD</th>\n",
       "      <td>5</td>\n",
       "    </tr>\n",
       "  </tbody>\n",
       "</table>\n",
       "</div>"
      ],
      "text/plain": [
       "              id\n",
       "currency        \n",
       "ARS            4\n",
       "COP       171028\n",
       "USD            5"
      ]
     },
     "execution_count": 6,
     "metadata": {},
     "output_type": "execute_result"
    }
   ],
   "source": [
    "df.groupby('currency').agg({'id':'count'})"
   ]
  },
  {
   "cell_type": "code",
   "execution_count": 7,
   "id": "29972186",
   "metadata": {},
   "outputs": [],
   "source": [
    "df=df[df['currency']=='COP']"
   ]
  },
  {
   "cell_type": "code",
   "execution_count": 8,
   "id": "feb6ebca",
   "metadata": {},
   "outputs": [
    {
     "data": {
      "text/plain": [
       "Venta                100686\n",
       "Arriendo              70332\n",
       "Arriendo temporal        10\n",
       "Name: operation_type, dtype: int64"
      ]
     },
     "execution_count": 8,
     "metadata": {},
     "output_type": "execute_result"
    }
   ],
   "source": [
    "df.operation_type.value_counts()"
   ]
  },
  {
   "cell_type": "markdown",
   "id": "3177a2cb",
   "metadata": {},
   "source": [
    "Propiedades en venta"
   ]
  },
  {
   "cell_type": "code",
   "execution_count": 9,
   "id": "9d4638b3",
   "metadata": {},
   "outputs": [],
   "source": [
    "df=df[df['operation_type']=='Venta']"
   ]
  },
  {
   "cell_type": "code",
   "execution_count": 10,
   "id": "fcb1cfe8",
   "metadata": {},
   "outputs": [
    {
     "data": {
      "text/plain": [
       "Apartamento        62891\n",
       "Casa               23371\n",
       "Otro                6182\n",
       "Oficina             3706\n",
       "Lote                2353\n",
       "Local comercial     1802\n",
       "Depósito             263\n",
       "Finca                 97\n",
       "Parqueadero           21\n",
       "Name: property_type, dtype: int64"
      ]
     },
     "execution_count": 10,
     "metadata": {},
     "output_type": "execute_result"
    }
   ],
   "source": [
    "df.property_type.value_counts()"
   ]
  },
  {
   "cell_type": "markdown",
   "id": "3ee6e33a",
   "metadata": {},
   "source": [
    "Me voy a quedar con casas (tarea hacerlo con los dos)"
   ]
  },
  {
   "cell_type": "code",
   "execution_count": 11,
   "id": "542c362c",
   "metadata": {},
   "outputs": [],
   "source": [
    "#df=df[(df['property_type']=='Casa') | (df['property_type']=='Apartamento')]\n",
    "df=df[df['property_type']=='Casa']"
   ]
  },
  {
   "cell_type": "code",
   "execution_count": 12,
   "id": "68987dac",
   "metadata": {},
   "outputs": [
    {
     "data": {
      "text/plain": [
       "Casa    23371\n",
       "Name: property_type, dtype: int64"
      ]
     },
     "execution_count": 12,
     "metadata": {},
     "output_type": "execute_result"
    }
   ],
   "source": [
    "df.property_type.value_counts()"
   ]
  },
  {
   "cell_type": "code",
   "execution_count": 13,
   "id": "14e00b25",
   "metadata": {},
   "outputs": [
    {
     "data": {
      "text/html": [
       "<div>\n",
       "<style scoped>\n",
       "    .dataframe tbody tr th:only-of-type {\n",
       "        vertical-align: middle;\n",
       "    }\n",
       "\n",
       "    .dataframe tbody tr th {\n",
       "        vertical-align: top;\n",
       "    }\n",
       "\n",
       "    .dataframe thead th {\n",
       "        text-align: right;\n",
       "    }\n",
       "</style>\n",
       "<table border=\"1\" class=\"dataframe\">\n",
       "  <thead>\n",
       "    <tr style=\"text-align: right;\">\n",
       "      <th></th>\n",
       "      <th>price</th>\n",
       "      <th>rooms</th>\n",
       "      <th>bedrooms</th>\n",
       "      <th>bathrooms</th>\n",
       "      <th>surface_total</th>\n",
       "      <th>surface_covered</th>\n",
       "      <th>lat</th>\n",
       "      <th>lon</th>\n",
       "    </tr>\n",
       "  </thead>\n",
       "  <tbody>\n",
       "    <tr>\n",
       "      <th>50</th>\n",
       "      <td>7.600000e+08</td>\n",
       "      <td>NaN</td>\n",
       "      <td>NaN</td>\n",
       "      <td>7.0</td>\n",
       "      <td>NaN</td>\n",
       "      <td>NaN</td>\n",
       "      <td>NaN</td>\n",
       "      <td>NaN</td>\n",
       "    </tr>\n",
       "    <tr>\n",
       "      <th>51</th>\n",
       "      <td>2.600000e+09</td>\n",
       "      <td>NaN</td>\n",
       "      <td>NaN</td>\n",
       "      <td>7.0</td>\n",
       "      <td>NaN</td>\n",
       "      <td>NaN</td>\n",
       "      <td>4.648423</td>\n",
       "      <td>-74.084421</td>\n",
       "    </tr>\n",
       "    <tr>\n",
       "      <th>164</th>\n",
       "      <td>5.300000e+08</td>\n",
       "      <td>3.0</td>\n",
       "      <td>3.0</td>\n",
       "      <td>NaN</td>\n",
       "      <td>NaN</td>\n",
       "      <td>NaN</td>\n",
       "      <td>4.732122</td>\n",
       "      <td>-74.051263</td>\n",
       "    </tr>\n",
       "    <tr>\n",
       "      <th>165</th>\n",
       "      <td>5.800000e+08</td>\n",
       "      <td>3.0</td>\n",
       "      <td>3.0</td>\n",
       "      <td>NaN</td>\n",
       "      <td>NaN</td>\n",
       "      <td>NaN</td>\n",
       "      <td>4.707211</td>\n",
       "      <td>-74.099645</td>\n",
       "    </tr>\n",
       "    <tr>\n",
       "      <th>166</th>\n",
       "      <td>2.200000e+09</td>\n",
       "      <td>3.0</td>\n",
       "      <td>3.0</td>\n",
       "      <td>NaN</td>\n",
       "      <td>NaN</td>\n",
       "      <td>NaN</td>\n",
       "      <td>4.714907</td>\n",
       "      <td>-74.028475</td>\n",
       "    </tr>\n",
       "  </tbody>\n",
       "</table>\n",
       "</div>"
      ],
      "text/plain": [
       "            price  rooms  bedrooms  bathrooms  surface_total  surface_covered  \\\n",
       "50   7.600000e+08    NaN       NaN        7.0            NaN              NaN   \n",
       "51   2.600000e+09    NaN       NaN        7.0            NaN              NaN   \n",
       "164  5.300000e+08    3.0       3.0        NaN            NaN              NaN   \n",
       "165  5.800000e+08    3.0       3.0        NaN            NaN              NaN   \n",
       "166  2.200000e+09    3.0       3.0        NaN            NaN              NaN   \n",
       "\n",
       "          lat        lon  \n",
       "50        NaN        NaN  \n",
       "51   4.648423 -74.084421  \n",
       "164  4.732122 -74.051263  \n",
       "165  4.707211 -74.099645  \n",
       "166  4.714907 -74.028475  "
      ]
     },
     "execution_count": 13,
     "metadata": {},
     "output_type": "execute_result"
    }
   ],
   "source": [
    "df=df[[ 'price', 'rooms', 'bedrooms', 'bathrooms', 'surface_total', 'surface_covered','lat','lon']]\n",
    "df.head()"
   ]
  },
  {
   "cell_type": "markdown",
   "id": "9783ad2d",
   "metadata": {},
   "source": [
    "Nos quedamos con las observaciones completas, si tiene NaN, las tiro (paso debatible)"
   ]
  },
  {
   "cell_type": "code",
   "execution_count": 14,
   "id": "7f359901",
   "metadata": {},
   "outputs": [
    {
     "data": {
      "text/html": [
       "<div>\n",
       "<style scoped>\n",
       "    .dataframe tbody tr th:only-of-type {\n",
       "        vertical-align: middle;\n",
       "    }\n",
       "\n",
       "    .dataframe tbody tr th {\n",
       "        vertical-align: top;\n",
       "    }\n",
       "\n",
       "    .dataframe thead th {\n",
       "        text-align: right;\n",
       "    }\n",
       "</style>\n",
       "<table border=\"1\" class=\"dataframe\">\n",
       "  <thead>\n",
       "    <tr style=\"text-align: right;\">\n",
       "      <th></th>\n",
       "      <th>price</th>\n",
       "      <th>rooms</th>\n",
       "      <th>bedrooms</th>\n",
       "      <th>bathrooms</th>\n",
       "      <th>surface_total</th>\n",
       "      <th>surface_covered</th>\n",
       "      <th>lat</th>\n",
       "      <th>lon</th>\n",
       "    </tr>\n",
       "  </thead>\n",
       "  <tbody>\n",
       "    <tr>\n",
       "      <th>873</th>\n",
       "      <td>1.750000e+08</td>\n",
       "      <td>3.0</td>\n",
       "      <td>3.0</td>\n",
       "      <td>2.0</td>\n",
       "      <td>63.0</td>\n",
       "      <td>63.0</td>\n",
       "      <td>4.753</td>\n",
       "      <td>-74.112</td>\n",
       "    </tr>\n",
       "    <tr>\n",
       "      <th>1311</th>\n",
       "      <td>8.000000e+08</td>\n",
       "      <td>5.0</td>\n",
       "      <td>5.0</td>\n",
       "      <td>3.0</td>\n",
       "      <td>175.0</td>\n",
       "      <td>253.0</td>\n",
       "      <td>4.703</td>\n",
       "      <td>-74.057</td>\n",
       "    </tr>\n",
       "    <tr>\n",
       "      <th>1557</th>\n",
       "      <td>1.800000e+09</td>\n",
       "      <td>3.0</td>\n",
       "      <td>3.0</td>\n",
       "      <td>4.0</td>\n",
       "      <td>550.0</td>\n",
       "      <td>369.0</td>\n",
       "      <td>4.724</td>\n",
       "      <td>-74.024</td>\n",
       "    </tr>\n",
       "    <tr>\n",
       "      <th>8163</th>\n",
       "      <td>3.490000e+08</td>\n",
       "      <td>4.0</td>\n",
       "      <td>4.0</td>\n",
       "      <td>3.0</td>\n",
       "      <td>90.0</td>\n",
       "      <td>180.0</td>\n",
       "      <td>4.745</td>\n",
       "      <td>-74.064</td>\n",
       "    </tr>\n",
       "    <tr>\n",
       "      <th>8171</th>\n",
       "      <td>9.500000e+08</td>\n",
       "      <td>4.0</td>\n",
       "      <td>4.0</td>\n",
       "      <td>4.0</td>\n",
       "      <td>322.0</td>\n",
       "      <td>279.0</td>\n",
       "      <td>4.702</td>\n",
       "      <td>-74.060</td>\n",
       "    </tr>\n",
       "  </tbody>\n",
       "</table>\n",
       "</div>"
      ],
      "text/plain": [
       "             price  rooms  bedrooms  bathrooms  surface_total  \\\n",
       "873   1.750000e+08    3.0       3.0        2.0           63.0   \n",
       "1311  8.000000e+08    5.0       5.0        3.0          175.0   \n",
       "1557  1.800000e+09    3.0       3.0        4.0          550.0   \n",
       "8163  3.490000e+08    4.0       4.0        3.0           90.0   \n",
       "8171  9.500000e+08    4.0       4.0        4.0          322.0   \n",
       "\n",
       "      surface_covered    lat     lon  \n",
       "873              63.0  4.753 -74.112  \n",
       "1311            253.0  4.703 -74.057  \n",
       "1557            369.0  4.724 -74.024  \n",
       "8163            180.0  4.745 -74.064  \n",
       "8171            279.0  4.702 -74.060  "
      ]
     },
     "execution_count": 14,
     "metadata": {},
     "output_type": "execute_result"
    }
   ],
   "source": [
    "df=df.dropna()\n",
    "df.head()"
   ]
  },
  {
   "cell_type": "code",
   "execution_count": 15,
   "id": "7c16f3ac",
   "metadata": {},
   "outputs": [
    {
     "data": {
      "text/plain": [
       "(1132, 8)"
      ]
     },
     "execution_count": 15,
     "metadata": {},
     "output_type": "execute_result"
    }
   ],
   "source": [
    "df.shape"
   ]
  },
  {
   "cell_type": "markdown",
   "id": "1e779dd9",
   "metadata": {},
   "source": [
    "# Enfoque de validación\n",
    "\n",
    "Divido la muestra en 80% entrenamiento, 20% prueba"
   ]
  },
  {
   "cell_type": "code",
   "execution_count": 16,
   "id": "7ba489c4",
   "metadata": {},
   "outputs": [],
   "source": [
    "from sklearn.model_selection import train_test_split\n",
    "\n",
    "train, test = train_test_split(df, test_size=0.2,random_state=123)"
   ]
  },
  {
   "cell_type": "markdown",
   "id": "f2cb3de5",
   "metadata": {},
   "source": [
    "## Graficamos algunas de las casas en los conjuntos de prueba y de entrenamiento\n",
    "\n",
    "Con rojo estan las de entrenamiento y en azul al"
   ]
  },
  {
   "cell_type": "code",
   "execution_count": 17,
   "id": "c68e4736",
   "metadata": {
    "scrolled": true
   },
   "outputs": [
    {
     "name": "stderr",
     "output_type": "stream",
     "text": [
      "/Users/iggy/opt/anaconda3/lib/python3.7/site-packages/mplleaflet/mplexporter/exporter.py:263: MatplotlibDeprecationWarning: \n",
      "The get_offset_position function was deprecated in Matplotlib 3.3 and will be removed two minor releases later.\n",
      "  offset_order = offset_dict[collection.get_offset_position()]\n",
      "/Users/iggy/opt/anaconda3/lib/python3.7/site-packages/IPython/core/display.py:701: UserWarning: Consider using IPython.display.IFrame instead\n",
      "  warnings.warn(\"Consider using IPython.display.IFrame instead\")\n"
     ]
    },
    {
     "data": {
      "text/html": [
       "<iframe src=\"data:text/html;base64,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\" width=\"100%\" height=\"360\"></iframe>"
      ],
      "text/plain": [
       "<IPython.core.display.HTML object>"
      ]
     },
     "execution_count": 17,
     "metadata": {},
     "output_type": "execute_result"
    }
   ],
   "source": [
    "import mplleaflet as mpll\n",
    "import matplotlib.pyplot as plt\n",
    "\n",
    "lsttest = test[[\"lat\", \"lon\"]]\n",
    "lstrain = train[[\"lat\", \"lon\"]]\n",
    "\n",
    "np.random.seed(123) # Esta semilla garantiza la replicabilidad de la gráfica\n",
    "indices = np.arange(lsttest.shape[0]) \n",
    "np.random.shuffle(indices)\n",
    "fig, ax = plt.subplots(1, figsize = (6, 6))\n",
    "lsttest.iloc[indices[:20],:].plot(kind = 'scatter', x = 'lon', y = 'lat',\n",
    "    s = 30, linewidth = 0, ax = ax)\n",
    "lstrain.iloc[indices[:20],:].plot(kind = 'scatter', x = 'lon', y = 'lat',\n",
    "    s = 30, linewidth = 0, ax = ax,color='red')\n",
    "mpll.display(fig = fig)"
   ]
  },
  {
   "cell_type": "markdown",
   "id": "eb9b646a",
   "metadata": {},
   "source": [
    "# Regresion Lineal y MSE, "
   ]
  },
  {
   "cell_type": "code",
   "execution_count": 18,
   "id": "233628da",
   "metadata": {},
   "outputs": [],
   "source": [
    "y_train= train['price']\n",
    "X_train=train.drop(columns=['price'])\n",
    "\n",
    "y_test= test['price']\n",
    "X_test=test.drop(columns=['price'])"
   ]
  },
  {
   "cell_type": "code",
   "execution_count": 19,
   "id": "c49ef571",
   "metadata": {},
   "outputs": [],
   "source": [
    "from sklearn.linear_model import LinearRegression\n",
    "\n",
    "model1 = LinearRegression().fit(X_train[['rooms']],y_train)                                     "
   ]
  },
  {
   "cell_type": "code",
   "execution_count": 20,
   "id": "c4a9d77f",
   "metadata": {},
   "outputs": [],
   "source": [
    " y_pred = model1.predict(X_test[['rooms']])"
   ]
  },
  {
   "cell_type": "code",
   "execution_count": 21,
   "id": "4d4f3b37",
   "metadata": {},
   "outputs": [
    {
     "data": {
      "text/plain": [
       "array([1.32764284e+09, 1.31508025e+09, 1.31298649e+09, 1.31926778e+09,\n",
       "       1.31298649e+09, 1.32764284e+09, 1.31717402e+09, 1.31508025e+09,\n",
       "       1.31089272e+09, 1.32136155e+09])"
      ]
     },
     "execution_count": 21,
     "metadata": {},
     "output_type": "execute_result"
    }
   ],
   "source": [
    "y_pred[0:10]"
   ]
  },
  {
   "cell_type": "code",
   "execution_count": 22,
   "id": "a9cb6783",
   "metadata": {},
   "outputs": [
    {
     "data": {
      "text/plain": [
       "2.6487563763772257e+18"
      ]
     },
     "execution_count": 22,
     "metadata": {},
     "output_type": "execute_result"
    }
   ],
   "source": [
    "MSE = np.square(np.subtract(y_test,y_pred)).mean()\n",
    "MSE"
   ]
  },
  {
   "cell_type": "code",
   "execution_count": 23,
   "id": "f5ab9bbc",
   "metadata": {},
   "outputs": [
    {
     "data": {
      "text/plain": [
       "2.648756376377227e+18"
      ]
     },
     "execution_count": 23,
     "metadata": {},
     "output_type": "execute_result"
    }
   ],
   "source": [
    "from sklearn.metrics import mean_squared_error\n",
    "mean_squared_error(y_test,y_pred)"
   ]
  },
  {
   "cell_type": "code",
   "execution_count": 24,
   "id": "077f5748",
   "metadata": {},
   "outputs": [],
   "source": [
    "model2 = LinearRegression().fit(X_train[['rooms','surface_total']],y_train)\n",
    "y_pred2 = model2.predict(X_test[['rooms','surface_total']])\n",
    "model3 = LinearRegression().fit(X_train[['surface_total','rooms','bedrooms','bathrooms']],y_train)\n",
    "y_pred3 = model3.predict(X_test[['surface_total','rooms','bedrooms','bathrooms']])"
   ]
  },
  {
   "cell_type": "code",
   "execution_count": 25,
   "id": "8a4238b5",
   "metadata": {},
   "outputs": [
    {
     "data": {
      "text/plain": [
       "2.648756376377227e+18"
      ]
     },
     "execution_count": 25,
     "metadata": {},
     "output_type": "execute_result"
    }
   ],
   "source": [
    "mean_squared_error(y_test,y_pred)"
   ]
  },
  {
   "cell_type": "code",
   "execution_count": 26,
   "id": "0adc74c2",
   "metadata": {},
   "outputs": [
    {
     "data": {
      "text/plain": [
       "2.520184992914835e+18"
      ]
     },
     "execution_count": 26,
     "metadata": {},
     "output_type": "execute_result"
    }
   ],
   "source": [
    "mean_squared_error(y_test,y_pred2)"
   ]
  },
  {
   "cell_type": "code",
   "execution_count": 27,
   "id": "0c4cfcb8",
   "metadata": {},
   "outputs": [
    {
     "data": {
      "text/plain": [
       "2.232920478011764e+18"
      ]
     },
     "execution_count": 27,
     "metadata": {},
     "output_type": "execute_result"
    }
   ],
   "source": [
    "mean_squared_error(y_test,y_pred3)"
   ]
  }
 ],
 "metadata": {
  "kernelspec": {
   "display_name": "Python 3",
   "language": "python",
   "name": "python3"
  },
  "language_info": {
   "codemirror_mode": {
    "name": "ipython",
    "version": 3
   },
   "file_extension": ".py",
   "mimetype": "text/x-python",
   "name": "python",
   "nbconvert_exporter": "python",
   "pygments_lexer": "ipython3",
   "version": "3.7.6"
  },
  "toc": {
   "base_numbering": 1,
   "nav_menu": {},
   "number_sections": true,
   "sideBar": true,
   "skip_h1_title": false,
   "title_cell": "Table of Contents",
   "title_sidebar": "Contents",
   "toc_cell": false,
   "toc_position": {},
   "toc_section_display": true,
   "toc_window_display": false
  }
 },
 "nbformat": 4,
 "nbformat_minor": 5
}
