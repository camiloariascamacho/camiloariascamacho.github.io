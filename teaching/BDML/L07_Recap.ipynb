{
 "cells": [
  {
   "cell_type": "markdown",
   "id": "8d3a1980",
   "metadata": {},
   "source": [
    "<div >\n",
    "<img src = \"figures/banner.png\" />\n",
    "</div>"
   ]
  },
  {
   "cell_type": "markdown",
   "id": "34642b72",
   "metadata": {},
   "source": [
    "# Lecture 7: Machine Learning: Recap"
   ]
  },
  {
   "cell_type": "markdown",
   "id": "89e710a5",
   "metadata": {},
   "source": [
    " - El objetivo es predecir $y$ dadas otras variables $X$. Ej: precio vivienda dadas las características\n",
    "  \n",
    "- Asumimos que el link entre $y$ and $X$ esta dado por:\n",
    "\n",
    "\\begin{align}\n",
    "  y = f(X) + u\n",
    "\\end{align}\n",
    "\n",
    "\n",
    "  - donde $f(X)$ es cualquier función, \n",
    "  \n",
    "  -  $u$ una variable aleatoria no observable $E(u)=0$ and $V(u) = \\sigma^2$\n"
   ]
  },
  {
   "cell_type": "markdown",
   "id": "9c59e2ff",
   "metadata": {},
   "source": [
    "<div >\n",
    "<img src = \"figures_noteboook/fig_1a-1.png\" />\n",
    "</div>"
   ]
  },
  {
   "cell_type": "markdown",
   "id": "28855983",
   "metadata": {},
   "source": [
    "<div >\n",
    "<img src = \"figures_noteboook/fig_1f.png\" />\n",
    "</div>"
   ]
  },
  {
   "cell_type": "markdown",
   "id": "7ad7071a",
   "metadata": {},
   "source": [
    "- ML nos interesa la predicción fuera de muestra\n",
    "  \n",
    "- Overfit: modelos complejos predicen muy bien dentro de muestra, pero tienden a hacer un trabajo fuera de muestra \n",
    "  \n",
    "- Hay que elegir el nivel adecuado de complejidad "
   ]
  },
  {
   "cell_type": "markdown",
   "id": "7488b8f6",
   "metadata": {},
   "source": [
    "<div >\n",
    "<img src = \"figures_noteboook/fig_1g-1.png\" />\n",
    "</div>"
   ]
  },
  {
   "cell_type": "markdown",
   "id": "ab027891",
   "metadata": {},
   "source": [
    "<div >\n",
    "<img src = \"figures_noteboook/fig_1h-1.png\" />\n",
    "</div>"
   ]
  },
  {
   "cell_type": "markdown",
   "id": "31c86b5b",
   "metadata": {},
   "source": [
    "## Selección de Modelos\n",
    "\n",
    "\n",
    "  - ML nos interesa la predicción fuera de muestra\n",
    "  \n",
    "  - Overfit: modelos complejos predicen muy bien dentro de muestra, pero tienden a hacer un mal trabajo fuera de muestra \n",
    "  \n",
    "  - Hay que elegir el modelo que ``mejor'' prediga\n",
    "  \n",
    "\n",
    "    - Métodos de Remuestreo\n",
    "    \n",
    "        - Enfoque del conjunto de validación\n",
    "        - Loocv\n",
    "        - Validación cruzada en K-partes (5 o 10)\n",
    "    "
   ]
  },
  {
   "cell_type": "markdown",
   "id": "3a7a8413",
   "metadata": {},
   "source": [
    "##  Instalar/llamar las librerías de la clase"
   ]
  },
  {
   "cell_type": "code",
   "execution_count": 1,
   "id": "9817ba7a",
   "metadata": {
    "vscode": {
     "languageId": "r"
    }
   },
   "outputs": [
    {
     "name": "stderr",
     "output_type": "stream",
     "text": [
      "Loading required package: pacman\n",
      "\n"
     ]
    }
   ],
   "source": [
    "require(pacman) \n",
    "p_load(tidyverse) "
   ]
  },
  {
   "cell_type": "markdown",
   "id": "cf5355fa",
   "metadata": {},
   "source": [
    "## Cargando los Datos\n"
   ]
  },
  {
   "cell_type": "markdown",
   "id": "779c033f",
   "metadata": {},
   "source": [
    "### Cargando Datos de Propiedades"
   ]
  },
  {
   "cell_type": "code",
   "execution_count": 2,
   "id": "c98327e6",
   "metadata": {
    "vscode": {
     "languageId": "r"
    }
   },
   "outputs": [
    {
     "data": {
      "text/plain": [
       "     Min.   1st Qu.    Median      Mean   3rd Qu.      Max. \n",
       "0.000e+00 3.569e+08 5.750e+08 8.232e+08 9.500e+08 3.220e+10 "
      ]
     },
     "metadata": {},
     "output_type": "display_data"
    }
   ],
   "source": [
    "### **0.1 fijar semilla**\n",
    "set.seed(101010)\n",
    "\n",
    "### **0.2 leer datos**\n",
    "house<-readRDS(url(\"https://github.com/ignaciomsarmiento/datasets/raw/main/data_houses_inmob.Rds\"))\n",
    "summary(house$price)"
   ]
  },
  {
   "cell_type": "code",
   "execution_count": 4,
   "id": "cbb98dab",
   "metadata": {
    "vscode": {
     "languageId": "r"
    }
   },
   "outputs": [
    {
     "data": {
      "text/html": [
       "<style>\n",
       ".list-inline {list-style: none; margin:0; padding: 0}\n",
       ".list-inline>li {display: inline-block}\n",
       ".list-inline>li:not(:last-child)::after {content: \"\\00b7\"; padding: 0 .5ex}\n",
       "</style>\n",
       "<ol class=list-inline><li>'l4'</li><li>'rooms'</li><li>'bathrooms'</li><li>'surface_total'</li><li>'price'</li><li>'property_type'</li><li>'dist_cbd'</li><li>'dist_cole'</li><li>'dist_park'</li><li>'luces_2019'</li><li>'luces_2021'</li><li>'cambio_activ'</li></ol>\n"
      ],
      "text/latex": [
       "\\begin{enumerate*}\n",
       "\\item 'l4'\n",
       "\\item 'rooms'\n",
       "\\item 'bathrooms'\n",
       "\\item 'surface\\_total'\n",
       "\\item 'price'\n",
       "\\item 'property\\_type'\n",
       "\\item 'dist\\_cbd'\n",
       "\\item 'dist\\_cole'\n",
       "\\item 'dist\\_park'\n",
       "\\item 'luces\\_2019'\n",
       "\\item 'luces\\_2021'\n",
       "\\item 'cambio\\_activ'\n",
       "\\end{enumerate*}\n"
      ],
      "text/markdown": [
       "1. 'l4'\n",
       "2. 'rooms'\n",
       "3. 'bathrooms'\n",
       "4. 'surface_total'\n",
       "5. 'price'\n",
       "6. 'property_type'\n",
       "7. 'dist_cbd'\n",
       "8. 'dist_cole'\n",
       "9. 'dist_park'\n",
       "10. 'luces_2019'\n",
       "11. 'luces_2021'\n",
       "12. 'cambio_activ'\n",
       "\n",
       "\n"
      ],
      "text/plain": [
       " [1] \"l4\"            \"rooms\"         \"bathrooms\"     \"surface_total\"\n",
       " [5] \"price\"         \"property_type\" \"dist_cbd\"      \"dist_cole\"    \n",
       " [9] \"dist_park\"     \"luces_2019\"    \"luces_2021\"    \"cambio_activ\" "
      ]
     },
     "metadata": {},
     "output_type": "display_data"
    }
   ],
   "source": [
    "colnames(house)"
   ]
  },
  {
   "cell_type": "markdown",
   "id": "495f34d2",
   "metadata": {
    "vscode": {
     "languageId": "r"
    }
   },
   "source": [
    "# Validation Set  Approach\n",
    "\n",
    "The first method to evaluate out-of-sample performance is the validation set approach. In this approach, a fixed portion of the data is designated as the validation set, and the model is trained on the remaining data. The model's performance is then evaluated on the validation set. These partitions are usually called:\n",
    "\n",
    "   - Training sample: to build/estimate/train the model\n",
    "   - Testing (validation, hold-out) sample:  to evaluate its performance \n",
    "\n",
    "Partitions can be of any size. Usually, 70%-30% or 80%-20% are used. Graphically, a 70%-30% partition looks like:     \n",
    "    \n",
    "<div>\n",
    "<img src=\"figures_noteboook/30-70.png\" width=\"500\"/>\n",
    "</div>"
   ]
  },
  {
   "cell_type": "code",
   "execution_count": null,
   "id": "e3356276",
   "metadata": {
    "vscode": {
     "languageId": "r"
    }
   },
   "outputs": [],
   "source": [
    "### **0.3 partir la muestra**\n",
    "set.seed(101010)\n",
    "sample_test <- sample(x = nrow(house) , size = nrow(house)*0.3)\n",
    "\n",
    "test <- house[sample_test,]\n",
    "\n",
    "train <- house[-sample_test,]"
   ]
  },
  {
   "cell_type": "markdown",
   "id": "4f557a5e",
   "metadata": {},
   "source": [
    "## Trade off Sesgo-Varianza"
   ]
  },
  {
   "cell_type": "markdown",
   "id": "9a11a486",
   "metadata": {},
   "source": [
    "### Modelo 1"
   ]
  },
  {
   "cell_type": "code",
   "execution_count": null,
   "id": "d6d2852a",
   "metadata": {
    "vscode": {
     "languageId": "r"
    }
   },
   "outputs": [],
   "source": [
    "specification1 <- lm(price~1,data=train) \n",
    "\n",
    "## summary\n",
    "summary(specification1)"
   ]
  },
  {
   "cell_type": "code",
   "execution_count": null,
   "id": "62e55313",
   "metadata": {
    "vscode": {
     "languageId": "r"
    }
   },
   "outputs": [],
   "source": [
    "\n",
    "## predicciones\n",
    "test$y_1 <- predict(object = specification1 , newdata = test) \n",
    "\n",
    "test$specification1 <- predict(specification1 , newdata = test)\n",
    "\n",
    "## MSE\n",
    "#test$price-test$y_1\n",
    "#(test$price-test$y_1)^2\n",
    "#mean((test$price-test$y_1)^2)\n",
    "\n",
    "mse1 <- with(test,mean((price-specification1)^2))\n",
    "mse1"
   ]
  },
  {
   "cell_type": "code",
   "execution_count": null,
   "id": "e694268c",
   "metadata": {
    "vscode": {
     "languageId": "r"
    }
   },
   "outputs": [],
   "source": [
    "sqrt(mse1)"
   ]
  },
  {
   "cell_type": "code",
   "execution_count": null,
   "id": "384497ab",
   "metadata": {
    "vscode": {
     "languageId": "r"
    }
   },
   "outputs": [],
   "source": [
    "## Almacenar el resultado del modelo\n",
    "models <- tibble(modelo=rep(NA,5),MSE=rep(NA,5))\n",
    "models$modelo[1] = \"Modelo 1\"\n",
    "models$MSE[1] = mse1\n"
   ]
  },
  {
   "cell_type": "markdown",
   "id": "dd0335c6",
   "metadata": {},
   "source": [
    "### Modelo 2"
   ]
  },
  {
   "cell_type": "code",
   "execution_count": null,
   "id": "6921a75b",
   "metadata": {
    "vscode": {
     "languageId": "r"
    }
   },
   "outputs": [],
   "source": [
    "\n",
    "### **1.2 Puede mejorarse la predicción**\n",
    "specification2 <- lm(price~rooms,data=train)\n",
    "\n",
    "test$specification2 <-predict(specification2,newdata = test) \n",
    "\n",
    "mse2 <- with(test,mean((price-specification2)^2))\n",
    "mse2\n",
    "\n"
   ]
  },
  {
   "cell_type": "code",
   "execution_count": null,
   "id": "d5aedea7",
   "metadata": {
    "vscode": {
     "languageId": "r"
    }
   },
   "outputs": [],
   "source": [
    "\n",
    "models$modelo[2] = \"Modelo 2\"\n",
    "models$MSE[2] = mse2\n",
    "\n",
    "ggplot(data=models , aes(x=modelo , y=MSE , group=1)) + \n",
    "geom_point() + geom_line(col=\"red\") + theme_test()"
   ]
  },
  {
   "cell_type": "code",
   "execution_count": null,
   "id": "3f9c2229",
   "metadata": {},
   "outputs": [],
   "source": [
    "colnames(house)"
   ]
  },
  {
   "cell_type": "markdown",
   "id": "a644d2ff",
   "metadata": {},
   "source": [
    "## 1.3 Que pasa si incluimos mas variables\n"
   ]
  },
  {
   "cell_type": "markdown",
   "id": "a3b0ff17",
   "metadata": {},
   "source": [
    "### Modelo 3"
   ]
  },
  {
   "cell_type": "code",
   "execution_count": null,
   "id": "119a6785",
   "metadata": {
    "vscode": {
     "languageId": "r"
    }
   },
   "outputs": [],
   "source": [
    "\n",
    "## modelo 3\n",
    "specification3 <- lm(price~rooms+bathrooms+surface_total,data=train) \n",
    "\n",
    "test$specification3<-predict(specification3,newdata = test) \n",
    "\n",
    "mse3 <- with(test,mean((price-specification3)^2,na.rm=T))\n",
    "mse3"
   ]
  },
  {
   "cell_type": "code",
   "execution_count": null,
   "id": "1823d65b",
   "metadata": {
    "vscode": {
     "languageId": "r"
    }
   },
   "outputs": [],
   "source": [
    "\n",
    "models$modelo[3] = \"Modelo 3\"\n",
    "models$MSE[3] = mse3\n",
    "\n",
    "ggplot(data=models , aes(x=modelo , y=MSE , group=1)) + \n",
    "geom_point() + geom_line(col=\"red\") + theme_test()"
   ]
  },
  {
   "cell_type": "markdown",
   "id": "32d2f389",
   "metadata": {},
   "source": [
    "### Modelo 4"
   ]
  },
  {
   "cell_type": "code",
   "execution_count": null,
   "id": "7d2f526c",
   "metadata": {
    "vscode": {
     "languageId": "r"
    }
   },
   "outputs": [],
   "source": [
    "\n",
    "specification4 <- lm(price~as.factor(l4)+rooms+bathrooms+surface_total+dist_cole+dist_park,data=train) \n",
    "\n",
    "test$specification4<-predict(specification4,newdata = test) \n",
    "\n",
    "mse4 <- with(test,mean((price-specification4)^2,na.rm=T))\n",
    "mse4"
   ]
  },
  {
   "cell_type": "code",
   "execution_count": null,
   "id": "c6f67df6",
   "metadata": {
    "vscode": {
     "languageId": "r"
    }
   },
   "outputs": [],
   "source": [
    "\n",
    "models$modelo[4] = \"Modelo 4\"\n",
    "models$MSE[4] = mse4\n",
    "\n",
    "ggplot(data=models , aes(x=modelo , y=sqrt(MSE) , group=1)) + \n",
    "geom_point() + geom_line(col=\"red\") + theme_test()"
   ]
  },
  {
   "cell_type": "markdown",
   "id": "52661d44",
   "metadata": {},
   "source": [
    "###  ¿Hay un límite para esta mejora?"
   ]
  },
  {
   "cell_type": "code",
   "execution_count": null,
   "id": "57f7a204",
   "metadata": {
    "vscode": {
     "languageId": "r"
    }
   },
   "outputs": [],
   "source": [
    "specification5 <- lm(price~ as.factor(l4) + poly(rooms,2):poly(surface_total,2):poly(bathrooms,2) + dist_cole:dist_park , data=train) \n",
    "\n",
    "test$specification5<-predict(specification5,newdata = test) \n",
    "\n",
    "mse5 <- with(test,mean((price-specification5)^2,na.rm=T))\n",
    "mse5\n",
    "\n",
    "models$modelo[5] = \"Modelo 5\"\n",
    "models$MSE[5] = mse5\n",
    "\n",
    "ggplot(data=models , aes(x=modelo , y=MSE , group=1)) + \n",
    "geom_point() + geom_line(col=\"red\") + theme_test()\n"
   ]
  }
 ],
 "metadata": {
  "kernelspec": {
   "display_name": "R",
   "language": "R",
   "name": "ir"
  },
  "language_info": {
   "codemirror_mode": "r",
   "file_extension": ".r",
   "mimetype": "text/x-r-source",
   "name": "R",
   "pygments_lexer": "r",
   "version": "4.3.0"
  },
  "toc": {
   "base_numbering": 1,
   "nav_menu": {},
   "number_sections": true,
   "sideBar": true,
   "skip_h1_title": false,
   "title_cell": "Table of Contents",
   "title_sidebar": "Contents",
   "toc_cell": false,
   "toc_position": {
    "height": "calc(100% - 180px)",
    "left": "10px",
    "top": "150px",
    "width": "282.667px"
   },
   "toc_section_display": true,
   "toc_window_display": true
  }
 },
 "nbformat": 4,
 "nbformat_minor": 5
}
