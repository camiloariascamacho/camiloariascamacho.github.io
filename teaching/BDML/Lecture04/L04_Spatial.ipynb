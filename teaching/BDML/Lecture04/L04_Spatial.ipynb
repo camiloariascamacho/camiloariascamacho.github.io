{
 "cells": [
  {
   "cell_type": "markdown",
   "id": "8d3a1980",
   "metadata": {},
   "source": [
    "<div >\n",
    "<img src = \"figs/banner.png\" />\n",
    "</div>"
   ]
  },
  {
   "cell_type": "markdown",
   "id": "34642b72",
   "metadata": {},
   "source": [
    "# Clase 04: Prepocesamiento de un conjunto de datos"
   ]
  },
  {
   "cell_type": "markdown",
   "id": "3a7a8413",
   "metadata": {},
   "source": [
    "##  Instalar/llamar las librerías de la clase"
   ]
  },
  {
   "cell_type": "code",
   "execution_count": null,
   "id": "9817ba7a",
   "metadata": {},
   "outputs": [],
   "source": [
    "require(pacman) \n",
    "p_load(tidyverse,rio,skimr,viridis,\n",
    "       gstat, #variogram\n",
    "       sf, # Leer/escribir/manipular datos espaciales\n",
    "       leaflet, # Visualizaciones dinámicas\n",
    "       tmaptools, # geocode_OSM()\n",
    "       nngeo, # st_nn function\n",
    "       spdep, # Construct neighbours list from polygon list \n",
    "       osmdata) # Get OSM's data"
   ]
  },
  {
   "cell_type": "markdown",
   "id": "cf5355fa",
   "metadata": {},
   "source": [
    "## Cargando los Datos\n"
   ]
  },
  {
   "cell_type": "markdown",
   "id": "779c033f",
   "metadata": {},
   "source": [
    "### Cargando Datos de Propiedades"
   ]
  },
  {
   "cell_type": "code",
   "execution_count": null,
   "id": "c98327e6",
   "metadata": {},
   "outputs": [],
   "source": [
    "houses <- import(\"input/house_prices.rds\")"
   ]
  },
  {
   "cell_type": "code",
   "execution_count": null,
   "id": "cbb98dab",
   "metadata": {},
   "outputs": [],
   "source": [
    "class(houses)"
   ]
  },
  {
   "cell_type": "code",
   "execution_count": null,
   "id": "64673900",
   "metadata": {},
   "outputs": [],
   "source": [
    "str(houses)"
   ]
  },
  {
   "cell_type": "markdown",
   "id": "aa7ef3d1",
   "metadata": {},
   "source": [
    "#### To spatial"
   ]
  },
  {
   "cell_type": "markdown",
   "id": "c6e1569f",
   "metadata": {},
   "source": [
    "##### La Tierra no es plana."
   ]
  },
  {
   "cell_type": "markdown",
   "id": "f2e11314",
   "metadata": {},
   "source": [
    "![](figs/Projections.gif)"
   ]
  },
  {
   "cell_type": "markdown",
   "id": "1feb5100",
   "metadata": {},
   "source": [
    "![](figs/mercator.gif)"
   ]
  },
  {
   "cell_type": "markdown",
   "id": "c60cf0cb",
   "metadata": {},
   "source": [
    "![](figs/Mexico_Greenland.gif)"
   ]
  },
  {
   "cell_type": "code",
   "execution_count": null,
   "id": "fb6eb001",
   "metadata": {},
   "outputs": [],
   "source": [
    "## dataframe to sf\n",
    "houses <- st_as_sf(x = houses, ## datos\n",
    "                    # \"coords\" is in x/y order -- so longitude goes first!\n",
    "                   coords=c(\"lon\",\"lat\"), ## coordenadas\n",
    "                   remove=FALSE,\n",
    "  # Set our coordinate reference system to EPSG:4326,\n",
    "  # the standard WGS84 geodetic coordinate reference system\n",
    "                   crs=4326) ## CRS"
   ]
  },
  {
   "cell_type": "code",
   "execution_count": null,
   "id": "0c9368d1",
   "metadata": {},
   "outputs": [],
   "source": [
    "map1<- leaflet() %>% addTiles() %>% addCircleMarkers(data=houses[1:100,])"
   ]
  },
  {
   "cell_type": "code",
   "execution_count": null,
   "id": "450832f7",
   "metadata": {},
   "outputs": [],
   "source": [
    "#workaround to show in Jupyter Notebook (not needed in Rstudio)\n",
    "p_load(\"htmlwidgets\",\"IRdisplay\")\n",
    "\n",
    "saveWidget(map1, 'demo1.html', selfcontained = FALSE)\n",
    "display_html('<iframe src=\"demo1.html\" width=\"800\" height=\"800\"></iframe>')"
   ]
  },
  {
   "cell_type": "markdown",
   "id": "21e05351",
   "metadata": {},
   "source": [
    "### Cargando Datos de Ciclovias"
   ]
  },
  {
   "cell_type": "code",
   "execution_count": null,
   "id": "a1c68410",
   "metadata": {},
   "outputs": [],
   "source": [
    "ciclovias <-st_read(\"input/Ciclovia\")"
   ]
  },
  {
   "cell_type": "code",
   "execution_count": null,
   "id": "e5b3f89c",
   "metadata": {},
   "outputs": [],
   "source": [
    "head(ciclovias)"
   ]
  },
  {
   "cell_type": "code",
   "execution_count": null,
   "id": "47361d78",
   "metadata": {},
   "outputs": [],
   "source": [
    "ggplot()+\n",
    "  geom_sf(data=ciclovias) +\n",
    "  theme_bw() +\n",
    "  theme(axis.title =element_blank(),\n",
    "        panel.grid.major = element_blank(),\n",
    "        panel.grid.minor = element_blank(),\n",
    "        axis.text = element_text(size=6))"
   ]
  },
  {
   "cell_type": "markdown",
   "id": "01668116",
   "metadata": {},
   "source": [
    "### Cargando Datos del Censo"
   ]
  },
  {
   "cell_type": "code",
   "execution_count": null,
   "id": "7cb90865",
   "metadata": {},
   "outputs": [],
   "source": [
    "mnz <- import(\"input/mgn_censo_2018.rds\")"
   ]
  },
  {
   "cell_type": "code",
   "execution_count": null,
   "id": "6d98e825",
   "metadata": {},
   "outputs": [],
   "source": [
    "map2<- leaflet() %>% addTiles() %>% addPolygons(data=mnz[1:100,])"
   ]
  },
  {
   "cell_type": "code",
   "execution_count": null,
   "id": "511ad4ea",
   "metadata": {},
   "outputs": [],
   "source": [
    "#workaround to show in Jupyter Notebook (not needed in Rstudio)\n",
    "saveWidget(map2, 'demo2.html', selfcontained = FALSE)\n",
    "display_html('<iframe src=\"demo2.html\" width=\"800\" height=\"800\"></iframe>')"
   ]
  },
  {
   "cell_type": "markdown",
   "id": "1eb29939",
   "metadata": {},
   "source": [
    "### Cargando Datos de Colegios"
   ]
  },
  {
   "cell_type": "code",
   "execution_count": null,
   "id": "a9884c6a",
   "metadata": {},
   "outputs": [],
   "source": [
    "## Colegios\n",
    "browseURL(\"https://datosabiertos.bogota.gov.co/dataset/resultados-pruebas-saber-11-bogota-d-c\")"
   ]
  },
  {
   "cell_type": "code",
   "execution_count": null,
   "id": "907ddbae",
   "metadata": {},
   "outputs": [],
   "source": [
    "colegio <- st_read(\"input/col_saber_11.shp\") %>% select(COD_DANE12,COLEGIO_SE,P_PUNTAJE)\n",
    "\n",
    "colegio\n",
    "\n",
    "summary(colegio$P_PUNTAJE)"
   ]
  },
  {
   "cell_type": "code",
   "execution_count": null,
   "id": "3395ec38",
   "metadata": {},
   "outputs": [],
   "source": [
    "colegio <- colegio %>% subset(P_PUNTAJE>=quantile(P_PUNTAJE,0.9))"
   ]
  },
  {
   "cell_type": "markdown",
   "id": "cafd7905",
   "metadata": {},
   "source": [
    "### CBD de Bogota"
   ]
  },
  {
   "cell_type": "code",
   "execution_count": null,
   "id": "a68feae0",
   "metadata": {},
   "outputs": [],
   "source": [
    "\n",
    "cbd <- geocode_OSM(\"Centro Internacional, Bogotá\", as.sf=T) \n",
    "\n",
    "cbd"
   ]
  },
  {
   "cell_type": "markdown",
   "id": "2a6a6655",
   "metadata": {},
   "source": [
    "## Descargar datos de OSM"
   ]
  },
  {
   "cell_type": "code",
   "execution_count": null,
   "id": "642474a5",
   "metadata": {},
   "outputs": [],
   "source": [
    "## parques\n",
    "parques <- opq(bbox = getbb(\"Bogota Colombia\")) %>%\n",
    "           add_osm_feature(key = \"leisure\", value = \"park\") %>%\n",
    "           osmdata_sf() %>% .$osm_polygons %>% select(osm_id,name)\n"
   ]
  },
  {
   "cell_type": "code",
   "execution_count": null,
   "id": "5cea15aa",
   "metadata": {},
   "outputs": [],
   "source": [
    "map3<-leaflet() %>% addTiles() %>% addPolygons(data=parques)"
   ]
  },
  {
   "cell_type": "code",
   "execution_count": null,
   "id": "7d0e61f8",
   "metadata": {},
   "outputs": [],
   "source": [
    "#workaround to show in Jupyter Notebook (not needed in Rstudio)\n",
    "saveWidget(map3, 'demo3.html', selfcontained = FALSE)\n",
    "display_html('<iframe src=\"demo3.html\" width=\"800\" height=\"800\"></iframe>')"
   ]
  },
  {
   "cell_type": "code",
   "execution_count": null,
   "id": "bf959983",
   "metadata": {},
   "outputs": [],
   "source": [
    "\n",
    "## restaurantes\n",
    "restaurantes <- opq(bbox = getbb(\"Bogota Colombia\")) %>%\n",
    "                add_osm_feature(key = \"amenity\", value = \"restaurant\") %>%\n",
    "                osmdata_sf() %>% .$osm_points %>% select(osm_id,name)\n",
    "\n"
   ]
  },
  {
   "cell_type": "code",
   "execution_count": null,
   "id": "667a3955",
   "metadata": {},
   "outputs": [],
   "source": [
    "map4<-leaflet() %>% addTiles() %>% addCircles(data=restaurantes)"
   ]
  },
  {
   "cell_type": "code",
   "execution_count": null,
   "id": "b3914c42",
   "metadata": {},
   "outputs": [],
   "source": [
    "#workaround to show in Jupyter Notebook (not needed in Rstudio)\n",
    "saveWidget(map4, 'demo4.html', selfcontained = FALSE)\n",
    "display_html('<iframe src=\"demo4.html\" width=\"800\" height=\"800\"></iframe>')"
   ]
  },
  {
   "cell_type": "code",
   "execution_count": null,
   "id": "c35bcce6",
   "metadata": {},
   "outputs": [],
   "source": [
    "## bancos\n",
    "bancos <- opq(bbox = getbb(\"Bogota Colombia\")) %>%\n",
    "          add_osm_feature(key = \"amenity\", value = \"bank\") %>%\n",
    "          osmdata_sf() %>% .$osm_points %>% select(osm_id,name)\n",
    "\n"
   ]
  },
  {
   "cell_type": "code",
   "execution_count": null,
   "id": "dcb2c543",
   "metadata": {},
   "outputs": [],
   "source": [
    "map5<-leaflet() %>% addTiles() %>% addCircles(data=bancos)"
   ]
  },
  {
   "cell_type": "code",
   "execution_count": null,
   "id": "865efefd",
   "metadata": {},
   "outputs": [],
   "source": [
    "#workaround to show in Jupyter Notebook (not needed in Rstudio)\n",
    "saveWidget(map5, 'demo5.html', selfcontained = FALSE)\n",
    "display_html('<iframe src=\"demo5.html\" width=\"800\" height=\"800\"></iframe>')"
   ]
  },
  {
   "cell_type": "code",
   "execution_count": null,
   "id": "61ee4cba",
   "metadata": {},
   "outputs": [],
   "source": [
    "\n",
    "## malls\n",
    "mall <- opq(bbox = getbb(\"Bogota Colombia\")) %>%\n",
    "        add_osm_feature(key = \"shop\", value = \"mall\") %>%\n",
    "        osmdata_sf() %>% .$osm_polygons %>% select(osm_id,name)\n",
    "\n"
   ]
  },
  {
   "cell_type": "code",
   "execution_count": null,
   "id": "24a6ea31",
   "metadata": {},
   "outputs": [],
   "source": [
    "map6<-leaflet() %>% addTiles() %>% addPolygons(data=mall)"
   ]
  },
  {
   "cell_type": "code",
   "execution_count": null,
   "id": "4cb7af1a",
   "metadata": {},
   "outputs": [],
   "source": [
    "#workaround to show in Jupyter Notebook (not needed in Rstudio)\n",
    "saveWidget(map6, 'demo6.html', selfcontained = FALSE)\n",
    "display_html('<iframe src=\"demo6.html\" width=\"800\" height=\"800\"></iframe>')"
   ]
  },
  {
   "cell_type": "markdown",
   "id": "a7781373",
   "metadata": {},
   "source": [
    "## Operaciones geometrías\n",
    "\n",
    "Puede acceder a las viñetas de la librería [sf](https://github.com/r-spatial/sf) "
   ]
  },
  {
   "cell_type": "markdown",
   "id": "f991700f",
   "metadata": {},
   "source": [
    "###  Filtrar datos"
   ]
  },
  {
   "cell_type": "code",
   "execution_count": null,
   "id": "8949ff02",
   "metadata": {},
   "outputs": [],
   "source": [
    "## usando los valores de una variable\n",
    "houses1 <- houses %>% subset(l3==\"Bogotá D.C\") %>% subset(l4==\"Zona Chapinero\")"
   ]
  },
  {
   "cell_type": "code",
   "execution_count": null,
   "id": "5c799e3e",
   "metadata": {},
   "outputs": [],
   "source": [
    "head(houses1)"
   ]
  },
  {
   "cell_type": "code",
   "execution_count": null,
   "id": "dc30276a",
   "metadata": {},
   "outputs": [],
   "source": [
    "map<-leaflet() %>% addTiles() %>% addCircles(data=houses1)"
   ]
  },
  {
   "cell_type": "code",
   "execution_count": null,
   "id": "7b13a2a6",
   "metadata": {},
   "outputs": [],
   "source": [
    "#workaround to show in Jupyter Notebook (not needed in Rstudio)\n",
    "saveWidget(map, 'map.html', selfcontained = FALSE)\n",
    "display_html('<iframe src=\"map.html\" width=\"800\" height=\"800\"></iframe>')"
   ]
  },
  {
   "cell_type": "code",
   "execution_count": null,
   "id": "0195fd93",
   "metadata": {},
   "outputs": [],
   "source": [
    "## usando la geometría\n",
    "chapinero <- getbb(place_name = \"UPZ Chapinero, Bogota\", \n",
    "                   featuretype = \"boundary:administrative\", \n",
    "                   format_out = \"sf_polygon\") %>% .$multipolygon\n"
   ]
  },
  {
   "cell_type": "code",
   "execution_count": null,
   "id": "f309bdf7",
   "metadata": {},
   "outputs": [],
   "source": [
    "map<-leaflet() %>% addTiles() %>% addPolygons(data=chapinero)\n",
    "\n",
    "#workaround to show in Jupyter Notebook (not needed in Rstudio)\n",
    "saveWidget(map, 'map.html', selfcontained = FALSE)\n",
    "display_html('<iframe src=\"map.html\" width=\"800\" height=\"800\"></iframe>')"
   ]
  },
  {
   "cell_type": "code",
   "execution_count": null,
   "id": "200beeab",
   "metadata": {},
   "outputs": [],
   "source": [
    "## crop puntos con poligono (opcion 1)\n",
    "house_chapi <- st_crop(x = houses , y = chapinero) "
   ]
  },
  {
   "cell_type": "code",
   "execution_count": null,
   "id": "d3e622ce",
   "metadata": {},
   "outputs": [],
   "source": [
    "map<- leaflet() %>% addTiles() %>% addPolygons(data=chapinero,col=\"red\") %>% addCircles(data=house_chapi)\n",
    "\n",
    "#workaround to show in Jupyter Notebook (not needed in Rstudio)\n",
    "saveWidget(map, 'map.html', selfcontained = FALSE)\n",
    "display_html('<iframe src=\"map.html\" width=\"800\" height=\"800\"></iframe>')"
   ]
  },
  {
   "cell_type": "code",
   "execution_count": null,
   "id": "3d8777c7",
   "metadata": {},
   "outputs": [],
   "source": [
    "## crop puntos con poligono (opcion 2)\n",
    "house_chapi <- st_intersection(x = houses , y = chapinero)\n"
   ]
  },
  {
   "cell_type": "code",
   "execution_count": null,
   "id": "7d604b27",
   "metadata": {},
   "outputs": [],
   "source": [
    "\n",
    "map<-leaflet() %>% addTiles() %>% addPolygons(data=chapinero,col=\"red\") %>% addCircles(data=house_chapi)\n",
    "\n",
    "#workaround to show in Jupyter Notebook (not needed in Rstudio)\n",
    "saveWidget(map, 'map.html', selfcontained = FALSE)\n",
    "display_html('<iframe src=\"map.html\" width=\"800\" height=\"800\"></iframe>')"
   ]
  },
  {
   "cell_type": "code",
   "execution_count": null,
   "id": "d541f242",
   "metadata": {},
   "outputs": [],
   "source": [
    "## crop puntos con poligono (opcion 3)\n",
    "house_chapi <- houses[chapinero,]\n",
    "\n"
   ]
  },
  {
   "cell_type": "code",
   "execution_count": null,
   "id": "ff27ff57",
   "metadata": {},
   "outputs": [],
   "source": [
    "map<-leaflet() %>% addTiles() %>% addPolygons(data=chapinero,col=\"red\") %>% addCircles(data=house_chapi)\n",
    "\n",
    "#workaround to show in Jupyter Notebook (not needed in Rstudio)\n",
    "saveWidget(map, 'map.html', selfcontained = FALSE)\n",
    "display_html('<iframe src=\"map.html\" width=\"800\" height=\"800\"></iframe>')"
   ]
  },
  {
   "cell_type": "code",
   "execution_count": null,
   "id": "8145690e",
   "metadata": {},
   "outputs": [],
   "source": [
    "## crop poligonos con poligono\n",
    "mnz_chapi <- mnz[chapinero,]\n"
   ]
  },
  {
   "cell_type": "code",
   "execution_count": null,
   "id": "b183187c",
   "metadata": {},
   "outputs": [],
   "source": [
    "map<-leaflet() %>% addTiles() %>% addPolygons(data=chapinero,col=\"red\") %>% addPolygons(data=mnz_chapi)\n",
    "\n",
    "#workaround to show in Jupyter Notebook (not needed in Rstudio)\n",
    "saveWidget(map, 'map.html', selfcontained = FALSE)\n",
    "display_html('<iframe src=\"map.html\" width=\"800\" height=\"800\"></iframe>')"
   ]
  },
  {
   "cell_type": "markdown",
   "id": "1754997a",
   "metadata": {},
   "source": [
    "### Midiendo distancias\n",
    "\n"
   ]
  },
  {
   "cell_type": "code",
   "execution_count": null,
   "id": "bf073549",
   "metadata": {},
   "outputs": [],
   "source": [
    "db<-data.frame(place=c(\"Uniandes\",\"Banco de La Republica\"),lat=c(4.601590,4.602151), long=c(-74.066391,-74.072350), nudge_y=c(-0.001,0.001))\n",
    "\n",
    "db<-st_as_sf(db,coords=c('long','lat'),crs=4326)\n",
    "db\n",
    "\n"
   ]
  },
  {
   "cell_type": "code",
   "execution_count": null,
   "id": "ce5d3f31",
   "metadata": {},
   "outputs": [],
   "source": [
    "\n",
    "db<-st_transform(db,4686)\n",
    "st_crs(db)\n"
   ]
  },
  {
   "cell_type": "code",
   "execution_count": null,
   "id": "4b03d370",
   "metadata": {},
   "outputs": [],
   "source": [
    "st_distance(db)"
   ]
  },
  {
   "cell_type": "code",
   "execution_count": null,
   "id": "855148fb",
   "metadata": {},
   "outputs": [],
   "source": [
    "st_distance(db,ciclovias)"
   ]
  },
  {
   "cell_type": "code",
   "execution_count": null,
   "id": "1cfcd6e8",
   "metadata": {},
   "outputs": [],
   "source": [
    "ciclovias<-st_transform(ciclovias, 4686)\n",
    "db<-st_transform(db, 4686)"
   ]
  },
  {
   "cell_type": "code",
   "execution_count": null,
   "id": "2ac77fcd",
   "metadata": {},
   "outputs": [],
   "source": [
    "st_distance(db,ciclovias)"
   ]
  },
  {
   "cell_type": "markdown",
   "id": "6f6ae1ba",
   "metadata": {},
   "source": [
    "#### Distancia a amenities\n",
    "\n",
    "##### Distancia a un punto"
   ]
  },
  {
   "cell_type": "code",
   "execution_count": null,
   "id": "018a7c8a",
   "metadata": {},
   "outputs": [],
   "source": [
    "\n",
    "house_chapi$dist_cbd <- st_distance(x=house_chapi , y=cbd)\n",
    "\n",
    "house_chapi$dist_cbd %>% hist()\n"
   ]
  },
  {
   "cell_type": "markdown",
   "id": "e574d1ef",
   "metadata": {},
   "source": [
    "\n",
    "##### Distancia a muchos puntos"
   ]
  },
  {
   "cell_type": "code",
   "execution_count": null,
   "id": "3c1e5c59",
   "metadata": {},
   "outputs": [],
   "source": [
    "\n",
    "matrix_dist_cole <- st_distance(x=house_chapi , y=colegio)\n"
   ]
  },
  {
   "cell_type": "code",
   "execution_count": null,
   "id": "0eecb353",
   "metadata": {},
   "outputs": [],
   "source": [
    "\n",
    "matrix_dist_cole %>% head()\n",
    "\n"
   ]
  },
  {
   "cell_type": "code",
   "execution_count": null,
   "id": "bb34927b",
   "metadata": {},
   "outputs": [],
   "source": [
    "\n",
    "min_dist_cole <- apply(matrix_dist_cole , 1 , min)\n"
   ]
  },
  {
   "cell_type": "code",
   "execution_count": null,
   "id": "14fa1a7a",
   "metadata": {},
   "outputs": [],
   "source": [
    "\n",
    "min_dist_cole %>% hist()\n",
    "\n"
   ]
  },
  {
   "cell_type": "code",
   "execution_count": null,
   "id": "a89ba85b",
   "metadata": {},
   "outputs": [],
   "source": [
    "house_chapi<-house_chapi  %>% mutate(dist_cole = min_dist_cole)"
   ]
  },
  {
   "cell_type": "code",
   "execution_count": null,
   "id": "f1442c67",
   "metadata": {},
   "outputs": [],
   "source": [
    "head(house_chapi$dist_cole)"
   ]
  },
  {
   "cell_type": "markdown",
   "id": "6451bc73",
   "metadata": {},
   "source": [
    "##### Distancia a muchos polygonos"
   ]
  },
  {
   "cell_type": "code",
   "execution_count": null,
   "id": "ddd1fffe",
   "metadata": {},
   "outputs": [],
   "source": [
    "\n",
    "\n",
    "matrix_dist_parque <- st_distance(x=house_chapi , y=parques)\n"
   ]
  },
  {
   "cell_type": "code",
   "execution_count": null,
   "id": "2dcaea76",
   "metadata": {},
   "outputs": [],
   "source": [
    "\n",
    "matrix_dist_parque %>% head()\n"
   ]
  },
  {
   "cell_type": "code",
   "execution_count": null,
   "id": "02750243",
   "metadata": {},
   "outputs": [],
   "source": [
    "\n",
    "mean_dist_parque <- apply(matrix_dist_parque , 1 , mean)\n"
   ]
  },
  {
   "cell_type": "code",
   "execution_count": null,
   "id": "c9fed9f4",
   "metadata": {},
   "outputs": [],
   "source": [
    "\n",
    "mean_dist_parque %>% hist()\n",
    "\n",
    "\n"
   ]
  },
  {
   "cell_type": "code",
   "execution_count": null,
   "id": "ea6b6352",
   "metadata": {},
   "outputs": [],
   "source": [
    "house_chapi<-house_chapi  %>% mutate(dist_parque = mean_dist_parque)"
   ]
  },
  {
   "cell_type": "markdown",
   "id": "f17ec46d",
   "metadata": {},
   "source": [
    "\n",
    "### Unir objetos usando la geometría"
   ]
  },
  {
   "cell_type": "code",
   "execution_count": null,
   "id": "a2ed88db",
   "metadata": {},
   "outputs": [],
   "source": [
    "## definir sub-muestra\n",
    "new_chapi <- house_chapi[st_buffer(house_chapi[100,],200),]\n"
   ]
  },
  {
   "cell_type": "code",
   "execution_count": null,
   "id": "175dd77f",
   "metadata": {},
   "outputs": [],
   "source": [
    "\n",
    "map<-leaflet() %>% addTiles() %>%\n",
    "addPolygons(data=mnz_chapi[new_chapi,],col=\"red\") %>%\n",
    "addCircles(data=new_chapi)\n",
    "\n",
    "#workaround to show in Jupyter Notebook (not needed in Rstudio)\n",
    "saveWidget(map, 'map.html', selfcontained = FALSE)\n",
    "display_html('<iframe src=\"map.html\" width=\"800\" height=\"800\"></iframe>')"
   ]
  },
  {
   "cell_type": "markdown",
   "id": "b350dbc2",
   "metadata": {},
   "source": [
    "\n",
    "##### unir dos conjuntos de datos basados en la distancia"
   ]
  },
  {
   "cell_type": "code",
   "execution_count": null,
   "id": "2e085a65",
   "metadata": {},
   "outputs": [],
   "source": [
    "new_chapi <- sf::st_join(new_chapi, mnz_chapi[new_chapi,] , join = st_nn , maxdist = 20 , k = 1 , progress = FALSE)\n",
    "\n"
   ]
  },
  {
   "cell_type": "code",
   "execution_count": null,
   "id": "c12d4a6c",
   "metadata": {},
   "outputs": [],
   "source": [
    "\n",
    "map<- leaflet() %>% addTiles() %>% \n",
    "addPolygons(data=mnz_chapi[new_chapi,] , col=\"red\" , label=mnz_chapi[new_chapi,]$MANZ_CCNCT) %>% \n",
    "addCircles(data=new_chapi , label=new_chapi$MANZ_CCNCT)\n",
    "\n",
    "\n",
    "#workaround to show in Jupyter Notebook (not needed in Rstudio)\n",
    "saveWidget(map, 'map.html', selfcontained = FALSE)\n",
    "display_html('<iframe src=\"map.html\" width=\"800\" height=\"800\"></iframe>')"
   ]
  },
  {
   "cell_type": "markdown",
   "id": "0663c015",
   "metadata": {},
   "source": [
    "##### unir dos conjuntos de datos basados en la geometría"
   ]
  },
  {
   "cell_type": "code",
   "execution_count": null,
   "id": "31bdf7af",
   "metadata": {},
   "outputs": [],
   "source": [
    "house_chapi <- st_join(x=house_chapi , y=mnz_chapi)"
   ]
  },
  {
   "cell_type": "code",
   "execution_count": null,
   "id": "5477446a",
   "metadata": {},
   "outputs": [],
   "source": [
    "house_chapi  %>% st_drop_geometry()%>% head()"
   ]
  }
 ],
 "metadata": {
  "kernelspec": {
   "display_name": "R",
   "language": "R",
   "name": "ir"
  },
  "language_info": {
   "codemirror_mode": "r",
   "file_extension": ".r",
   "mimetype": "text/x-r-source",
   "name": "R",
   "pygments_lexer": "r",
   "version": "4.2.2"
  },
  "toc": {
   "base_numbering": 1,
   "nav_menu": {},
   "number_sections": true,
   "sideBar": true,
   "skip_h1_title": false,
   "title_cell": "Table of Contents",
   "title_sidebar": "Contents",
   "toc_cell": false,
   "toc_position": {
    "height": "calc(100% - 180px)",
    "left": "10px",
    "top": "150px",
    "width": "282.667px"
   },
   "toc_section_display": true,
   "toc_window_display": true
  }
 },
 "nbformat": 4,
 "nbformat_minor": 5
}
