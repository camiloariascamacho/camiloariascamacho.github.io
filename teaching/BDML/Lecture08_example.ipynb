{
 "cells": [
  {
   "cell_type": "markdown",
   "id": "b0efa741",
   "metadata": {},
   "source": [
    "# Clase 8: Big Data and Machine Learning en el Mercado Inmobiliario. Educación Continua\n",
    "\n",
    "\n",
    "El siguiente  cuaderno limpia los datos que use durante la clase teórica e implementa lo mostrado en clase."
   ]
  },
  {
   "cell_type": "code",
   "execution_count": 1,
   "id": "84945d46",
   "metadata": {},
   "outputs": [],
   "source": [
    "#cargar librerias\n",
    "import pandas as pd \n",
    "import numpy as np"
   ]
  },
  {
   "cell_type": "markdown",
   "id": "1a77f2c0",
   "metadata": {},
   "source": [
    "Cargo los datos que vienen de  <a href='https://www.properati.com.co'>Properati</a> y fueron descargados el 26 de Marzo de 2022."
   ]
  },
  {
   "cell_type": "code",
   "execution_count": 2,
   "id": "a53d0324",
   "metadata": {},
   "outputs": [],
   "source": [
    "df = pd.read_csv('co_properties.csv.gz', compression='gzip', header=0,    sep=',', quotechar='\"')"
   ]
  },
  {
   "cell_type": "code",
   "execution_count": 3,
   "id": "f143ba9f",
   "metadata": {
    "jupyter": {
     "outputs_hidden": true
    }
   },
   "outputs": [
    {
     "data": {
      "text/html": [
       "<div>\n",
       "<style scoped>\n",
       "    .dataframe tbody tr th:only-of-type {\n",
       "        vertical-align: middle;\n",
       "    }\n",
       "\n",
       "    .dataframe tbody tr th {\n",
       "        vertical-align: top;\n",
       "    }\n",
       "\n",
       "    .dataframe thead th {\n",
       "        text-align: right;\n",
       "    }\n",
       "</style>\n",
       "<table border=\"1\" class=\"dataframe\">\n",
       "  <thead>\n",
       "    <tr style=\"text-align: right;\">\n",
       "      <th></th>\n",
       "      <th>id</th>\n",
       "      <th>ad_type</th>\n",
       "      <th>start_date</th>\n",
       "      <th>end_date</th>\n",
       "      <th>created_on</th>\n",
       "      <th>lat</th>\n",
       "      <th>lon</th>\n",
       "      <th>l1</th>\n",
       "      <th>l2</th>\n",
       "      <th>l3</th>\n",
       "      <th>...</th>\n",
       "      <th>bathrooms</th>\n",
       "      <th>surface_total</th>\n",
       "      <th>surface_covered</th>\n",
       "      <th>price</th>\n",
       "      <th>currency</th>\n",
       "      <th>price_period</th>\n",
       "      <th>title</th>\n",
       "      <th>description</th>\n",
       "      <th>property_type</th>\n",
       "      <th>operation_type</th>\n",
       "    </tr>\n",
       "  </thead>\n",
       "  <tbody>\n",
       "    <tr>\n",
       "      <th>0</th>\n",
       "      <td>KsjahK62rxcYKXXQjOdkqw==</td>\n",
       "      <td>Propiedad</td>\n",
       "      <td>2020-10-07</td>\n",
       "      <td>2021-10-09</td>\n",
       "      <td>2020-10-07</td>\n",
       "      <td>3.9210</td>\n",
       "      <td>-76.506000</td>\n",
       "      <td>Colombia</td>\n",
       "      <td>Valle del Cauca</td>\n",
       "      <td>NaN</td>\n",
       "      <td>...</td>\n",
       "      <td>7.0</td>\n",
       "      <td>NaN</td>\n",
       "      <td>NaN</td>\n",
       "      <td>1.300000e+09</td>\n",
       "      <td>COP</td>\n",
       "      <td>NaN</td>\n",
       "      <td>Casa Campestre en venta en darien 3469064</td>\n",
       "      <td>HERMOSA CASA CAMPESTRE, &amp;Aacute;REA 6,000 MT, ...</td>\n",
       "      <td>Casa</td>\n",
       "      <td>Venta</td>\n",
       "    </tr>\n",
       "    <tr>\n",
       "      <th>1</th>\n",
       "      <td>Y+gsBZYq1zu5NoR3V5oUGA==</td>\n",
       "      <td>Propiedad</td>\n",
       "      <td>2020-10-07</td>\n",
       "      <td>2021-01-06</td>\n",
       "      <td>2020-10-07</td>\n",
       "      <td>3.3577</td>\n",
       "      <td>-76.541811</td>\n",
       "      <td>Colombia</td>\n",
       "      <td>Valle del Cauca</td>\n",
       "      <td>Cali</td>\n",
       "      <td>...</td>\n",
       "      <td>7.0</td>\n",
       "      <td>NaN</td>\n",
       "      <td>NaN</td>\n",
       "      <td>2.800000e+09</td>\n",
       "      <td>COP</td>\n",
       "      <td>NaN</td>\n",
       "      <td>Casa en ciudsd jardin</td>\n",
       "      <td>Casa independiente con posiciona en ciudad jar...</td>\n",
       "      <td>Casa</td>\n",
       "      <td>Venta</td>\n",
       "    </tr>\n",
       "    <tr>\n",
       "      <th>2</th>\n",
       "      <td>Jpzqxj8/Vgf3Aa5ASxUBNg==</td>\n",
       "      <td>Propiedad</td>\n",
       "      <td>2020-10-07</td>\n",
       "      <td>2020-10-07</td>\n",
       "      <td>2020-10-07</td>\n",
       "      <td>3.3577</td>\n",
       "      <td>-76.541811</td>\n",
       "      <td>Colombia</td>\n",
       "      <td>Valle del Cauca</td>\n",
       "      <td>Cali</td>\n",
       "      <td>...</td>\n",
       "      <td>7.0</td>\n",
       "      <td>NaN</td>\n",
       "      <td>NaN</td>\n",
       "      <td>2.800000e+09</td>\n",
       "      <td>COP</td>\n",
       "      <td>Mensual</td>\n",
       "      <td>Casa en ciudsd jardin</td>\n",
       "      <td>Casa independiente con posiciona en ciudad jar...</td>\n",
       "      <td>Casa</td>\n",
       "      <td>Venta</td>\n",
       "    </tr>\n",
       "    <tr>\n",
       "      <th>3</th>\n",
       "      <td>ieuFnkFx/yHDD66iMV14Gw==</td>\n",
       "      <td>Propiedad</td>\n",
       "      <td>2020-10-07</td>\n",
       "      <td>2021-04-12</td>\n",
       "      <td>2020-10-07</td>\n",
       "      <td>3.3640</td>\n",
       "      <td>-76.538000</td>\n",
       "      <td>Colombia</td>\n",
       "      <td>Valle del Cauca</td>\n",
       "      <td>Cali</td>\n",
       "      <td>...</td>\n",
       "      <td>8.0</td>\n",
       "      <td>NaN</td>\n",
       "      <td>NaN</td>\n",
       "      <td>3.500000e+09</td>\n",
       "      <td>COP</td>\n",
       "      <td>NaN</td>\n",
       "      <td>Casa en venta en pance 1630426</td>\n",
       "      <td>EXCELENTE CASA - LOTE 6,373 MT, EN OBRA GRIS U...</td>\n",
       "      <td>Casa</td>\n",
       "      <td>Venta</td>\n",
       "    </tr>\n",
       "    <tr>\n",
       "      <th>4</th>\n",
       "      <td>g4u5JM+hAHEk8SukRSjMzg==</td>\n",
       "      <td>Propiedad</td>\n",
       "      <td>2020-10-07</td>\n",
       "      <td>9999-12-31</td>\n",
       "      <td>2020-10-07</td>\n",
       "      <td>3.3910</td>\n",
       "      <td>-76.517000</td>\n",
       "      <td>Colombia</td>\n",
       "      <td>Valle del Cauca</td>\n",
       "      <td>Cali</td>\n",
       "      <td>...</td>\n",
       "      <td>9.0</td>\n",
       "      <td>NaN</td>\n",
       "      <td>NaN</td>\n",
       "      <td>4.800000e+08</td>\n",
       "      <td>COP</td>\n",
       "      <td>NaN</td>\n",
       "      <td>CASA EXTERNA BARRIO CIUDAD 2000</td>\n",
       "      <td>CASA EXTERNA EN EL BARRIO CIUDAD 2000,CONSTRUI...</td>\n",
       "      <td>Casa</td>\n",
       "      <td>Venta</td>\n",
       "    </tr>\n",
       "  </tbody>\n",
       "</table>\n",
       "<p>5 rows × 25 columns</p>\n",
       "</div>"
      ],
      "text/plain": [
       "                         id    ad_type  start_date    end_date  created_on  \\\n",
       "0  KsjahK62rxcYKXXQjOdkqw==  Propiedad  2020-10-07  2021-10-09  2020-10-07   \n",
       "1  Y+gsBZYq1zu5NoR3V5oUGA==  Propiedad  2020-10-07  2021-01-06  2020-10-07   \n",
       "2  Jpzqxj8/Vgf3Aa5ASxUBNg==  Propiedad  2020-10-07  2020-10-07  2020-10-07   \n",
       "3  ieuFnkFx/yHDD66iMV14Gw==  Propiedad  2020-10-07  2021-04-12  2020-10-07   \n",
       "4  g4u5JM+hAHEk8SukRSjMzg==  Propiedad  2020-10-07  9999-12-31  2020-10-07   \n",
       "\n",
       "      lat        lon        l1               l2    l3  ... bathrooms  \\\n",
       "0  3.9210 -76.506000  Colombia  Valle del Cauca   NaN  ...       7.0   \n",
       "1  3.3577 -76.541811  Colombia  Valle del Cauca  Cali  ...       7.0   \n",
       "2  3.3577 -76.541811  Colombia  Valle del Cauca  Cali  ...       7.0   \n",
       "3  3.3640 -76.538000  Colombia  Valle del Cauca  Cali  ...       8.0   \n",
       "4  3.3910 -76.517000  Colombia  Valle del Cauca  Cali  ...       9.0   \n",
       "\n",
       "  surface_total surface_covered         price  currency  price_period  \\\n",
       "0           NaN             NaN  1.300000e+09       COP           NaN   \n",
       "1           NaN             NaN  2.800000e+09       COP           NaN   \n",
       "2           NaN             NaN  2.800000e+09       COP       Mensual   \n",
       "3           NaN             NaN  3.500000e+09       COP           NaN   \n",
       "4           NaN             NaN  4.800000e+08       COP           NaN   \n",
       "\n",
       "                                       title  \\\n",
       "0  Casa Campestre en venta en darien 3469064   \n",
       "1                      Casa en ciudsd jardin   \n",
       "2                      Casa en ciudsd jardin   \n",
       "3             Casa en venta en pance 1630426   \n",
       "4            CASA EXTERNA BARRIO CIUDAD 2000   \n",
       "\n",
       "                                         description  property_type  \\\n",
       "0  HERMOSA CASA CAMPESTRE, &Aacute;REA 6,000 MT, ...           Casa   \n",
       "1  Casa independiente con posiciona en ciudad jar...           Casa   \n",
       "2  Casa independiente con posiciona en ciudad jar...           Casa   \n",
       "3  EXCELENTE CASA - LOTE 6,373 MT, EN OBRA GRIS U...           Casa   \n",
       "4  CASA EXTERNA EN EL BARRIO CIUDAD 2000,CONSTRUI...           Casa   \n",
       "\n",
       "  operation_type  \n",
       "0          Venta  \n",
       "1          Venta  \n",
       "2          Venta  \n",
       "3          Venta  \n",
       "4          Venta  \n",
       "\n",
       "[5 rows x 25 columns]"
      ]
     },
     "execution_count": 3,
     "metadata": {},
     "output_type": "execute_result"
    }
   ],
   "source": [
    "df.head()"
   ]
  },
  {
   "cell_type": "code",
   "execution_count": 4,
   "id": "1145f27a",
   "metadata": {},
   "outputs": [
    {
     "data": {
      "text/plain": [
       "Medellín        262856\n",
       "Bogotá D.C      171168\n",
       "Cali             95401\n",
       "Barranquilla     74801\n",
       "Bucaramanga      46595\n",
       "                 ...  \n",
       "Santiago             1\n",
       "Guateque             1\n",
       "San Alberto          1\n",
       "Iza                  1\n",
       "Ataco                1\n",
       "Name: l3, Length: 343, dtype: int64"
      ]
     },
     "execution_count": 4,
     "metadata": {},
     "output_type": "execute_result"
    }
   ],
   "source": [
    "df.l3.value_counts()"
   ]
  },
  {
   "cell_type": "markdown",
   "id": "a368d457",
   "metadata": {},
   "source": [
    "Propiedades en Bogotá"
   ]
  },
  {
   "cell_type": "code",
   "execution_count": 5,
   "id": "4de949cd",
   "metadata": {},
   "outputs": [
    {
     "data": {
      "text/plain": [
       "Bogotá D.C    171168\n",
       "Name: l3, dtype: int64"
      ]
     },
     "execution_count": 5,
     "metadata": {},
     "output_type": "execute_result"
    }
   ],
   "source": [
    "df=df[df['l3']=='Bogotá D.C']\n",
    "df.l3.value_counts()"
   ]
  },
  {
   "cell_type": "markdown",
   "id": "342e92fc",
   "metadata": {},
   "source": [
    "Propiedades que el precio esta en COP"
   ]
  },
  {
   "cell_type": "code",
   "execution_count": 6,
   "id": "6f03398f",
   "metadata": {},
   "outputs": [
    {
     "data": {
      "text/html": [
       "<div>\n",
       "<style scoped>\n",
       "    .dataframe tbody tr th:only-of-type {\n",
       "        vertical-align: middle;\n",
       "    }\n",
       "\n",
       "    .dataframe tbody tr th {\n",
       "        vertical-align: top;\n",
       "    }\n",
       "\n",
       "    .dataframe thead th {\n",
       "        text-align: right;\n",
       "    }\n",
       "</style>\n",
       "<table border=\"1\" class=\"dataframe\">\n",
       "  <thead>\n",
       "    <tr style=\"text-align: right;\">\n",
       "      <th></th>\n",
       "      <th>id</th>\n",
       "    </tr>\n",
       "    <tr>\n",
       "      <th>currency</th>\n",
       "      <th></th>\n",
       "    </tr>\n",
       "  </thead>\n",
       "  <tbody>\n",
       "    <tr>\n",
       "      <th>ARS</th>\n",
       "      <td>4</td>\n",
       "    </tr>\n",
       "    <tr>\n",
       "      <th>COP</th>\n",
       "      <td>171028</td>\n",
       "    </tr>\n",
       "    <tr>\n",
       "      <th>USD</th>\n",
       "      <td>5</td>\n",
       "    </tr>\n",
       "  </tbody>\n",
       "</table>\n",
       "</div>"
      ],
      "text/plain": [
       "              id\n",
       "currency        \n",
       "ARS            4\n",
       "COP       171028\n",
       "USD            5"
      ]
     },
     "execution_count": 6,
     "metadata": {},
     "output_type": "execute_result"
    }
   ],
   "source": [
    "df.groupby('currency').agg({'id':'count'})"
   ]
  },
  {
   "cell_type": "code",
   "execution_count": 7,
   "id": "29972186",
   "metadata": {},
   "outputs": [],
   "source": [
    "df=df[df['currency']=='COP']"
   ]
  },
  {
   "cell_type": "code",
   "execution_count": 8,
   "id": "feb6ebca",
   "metadata": {},
   "outputs": [
    {
     "data": {
      "text/plain": [
       "Venta                100686\n",
       "Arriendo              70332\n",
       "Arriendo temporal        10\n",
       "Name: operation_type, dtype: int64"
      ]
     },
     "execution_count": 8,
     "metadata": {},
     "output_type": "execute_result"
    }
   ],
   "source": [
    "df.operation_type.value_counts()"
   ]
  },
  {
   "cell_type": "markdown",
   "id": "3177a2cb",
   "metadata": {},
   "source": [
    "Propiedades en venta"
   ]
  },
  {
   "cell_type": "code",
   "execution_count": 9,
   "id": "9d4638b3",
   "metadata": {},
   "outputs": [],
   "source": [
    "df=df[df['operation_type']=='Venta']"
   ]
  },
  {
   "cell_type": "code",
   "execution_count": 10,
   "id": "fcb1cfe8",
   "metadata": {},
   "outputs": [
    {
     "data": {
      "text/plain": [
       "Apartamento        62891\n",
       "Casa               23371\n",
       "Otro                6182\n",
       "Oficina             3706\n",
       "Lote                2353\n",
       "Local comercial     1802\n",
       "Depósito             263\n",
       "Finca                 97\n",
       "Parqueadero           21\n",
       "Name: property_type, dtype: int64"
      ]
     },
     "execution_count": 10,
     "metadata": {},
     "output_type": "execute_result"
    }
   ],
   "source": [
    "df.property_type.value_counts()"
   ]
  },
  {
   "cell_type": "markdown",
   "id": "3ee6e33a",
   "metadata": {},
   "source": [
    "Me voy a quedar con casas (tarea hacerlo con los dos)"
   ]
  },
  {
   "cell_type": "code",
   "execution_count": 11,
   "id": "542c362c",
   "metadata": {},
   "outputs": [],
   "source": [
    "#df=df[(df['property_type']=='Casa') | (df['property_type']=='Apartamento')]\n",
    "df=df[df['property_type']=='Casa']"
   ]
  },
  {
   "cell_type": "code",
   "execution_count": 12,
   "id": "68987dac",
   "metadata": {},
   "outputs": [
    {
     "data": {
      "text/plain": [
       "Casa    23371\n",
       "Name: property_type, dtype: int64"
      ]
     },
     "execution_count": 12,
     "metadata": {},
     "output_type": "execute_result"
    }
   ],
   "source": [
    "df.property_type.value_counts()"
   ]
  },
  {
   "cell_type": "code",
   "execution_count": 13,
   "id": "14e00b25",
   "metadata": {},
   "outputs": [
    {
     "data": {
      "text/html": [
       "<div>\n",
       "<style scoped>\n",
       "    .dataframe tbody tr th:only-of-type {\n",
       "        vertical-align: middle;\n",
       "    }\n",
       "\n",
       "    .dataframe tbody tr th {\n",
       "        vertical-align: top;\n",
       "    }\n",
       "\n",
       "    .dataframe thead th {\n",
       "        text-align: right;\n",
       "    }\n",
       "</style>\n",
       "<table border=\"1\" class=\"dataframe\">\n",
       "  <thead>\n",
       "    <tr style=\"text-align: right;\">\n",
       "      <th></th>\n",
       "      <th>price</th>\n",
       "      <th>rooms</th>\n",
       "      <th>bedrooms</th>\n",
       "      <th>bathrooms</th>\n",
       "      <th>surface_total</th>\n",
       "      <th>surface_covered</th>\n",
       "      <th>lat</th>\n",
       "      <th>lon</th>\n",
       "    </tr>\n",
       "  </thead>\n",
       "  <tbody>\n",
       "    <tr>\n",
       "      <th>50</th>\n",
       "      <td>7.600000e+08</td>\n",
       "      <td>NaN</td>\n",
       "      <td>NaN</td>\n",
       "      <td>7.0</td>\n",
       "      <td>NaN</td>\n",
       "      <td>NaN</td>\n",
       "      <td>NaN</td>\n",
       "      <td>NaN</td>\n",
       "    </tr>\n",
       "    <tr>\n",
       "      <th>51</th>\n",
       "      <td>2.600000e+09</td>\n",
       "      <td>NaN</td>\n",
       "      <td>NaN</td>\n",
       "      <td>7.0</td>\n",
       "      <td>NaN</td>\n",
       "      <td>NaN</td>\n",
       "      <td>4.648423</td>\n",
       "      <td>-74.084421</td>\n",
       "    </tr>\n",
       "    <tr>\n",
       "      <th>164</th>\n",
       "      <td>5.300000e+08</td>\n",
       "      <td>3.0</td>\n",
       "      <td>3.0</td>\n",
       "      <td>NaN</td>\n",
       "      <td>NaN</td>\n",
       "      <td>NaN</td>\n",
       "      <td>4.732122</td>\n",
       "      <td>-74.051263</td>\n",
       "    </tr>\n",
       "    <tr>\n",
       "      <th>165</th>\n",
       "      <td>5.800000e+08</td>\n",
       "      <td>3.0</td>\n",
       "      <td>3.0</td>\n",
       "      <td>NaN</td>\n",
       "      <td>NaN</td>\n",
       "      <td>NaN</td>\n",
       "      <td>4.707211</td>\n",
       "      <td>-74.099645</td>\n",
       "    </tr>\n",
       "    <tr>\n",
       "      <th>166</th>\n",
       "      <td>2.200000e+09</td>\n",
       "      <td>3.0</td>\n",
       "      <td>3.0</td>\n",
       "      <td>NaN</td>\n",
       "      <td>NaN</td>\n",
       "      <td>NaN</td>\n",
       "      <td>4.714907</td>\n",
       "      <td>-74.028475</td>\n",
       "    </tr>\n",
       "  </tbody>\n",
       "</table>\n",
       "</div>"
      ],
      "text/plain": [
       "            price  rooms  bedrooms  bathrooms  surface_total  surface_covered  \\\n",
       "50   7.600000e+08    NaN       NaN        7.0            NaN              NaN   \n",
       "51   2.600000e+09    NaN       NaN        7.0            NaN              NaN   \n",
       "164  5.300000e+08    3.0       3.0        NaN            NaN              NaN   \n",
       "165  5.800000e+08    3.0       3.0        NaN            NaN              NaN   \n",
       "166  2.200000e+09    3.0       3.0        NaN            NaN              NaN   \n",
       "\n",
       "          lat        lon  \n",
       "50        NaN        NaN  \n",
       "51   4.648423 -74.084421  \n",
       "164  4.732122 -74.051263  \n",
       "165  4.707211 -74.099645  \n",
       "166  4.714907 -74.028475  "
      ]
     },
     "execution_count": 13,
     "metadata": {},
     "output_type": "execute_result"
    }
   ],
   "source": [
    "df=df[[ 'price', 'rooms', 'bedrooms', 'bathrooms', 'surface_total', 'surface_covered','lat','lon']]\n",
    "df.head()"
   ]
  },
  {
   "cell_type": "markdown",
   "id": "9783ad2d",
   "metadata": {},
   "source": [
    "Nos quedamos con las observaciones completas, si tiene NaN, las tiro (paso debatible)"
   ]
  },
  {
   "cell_type": "code",
   "execution_count": 14,
   "id": "7f359901",
   "metadata": {},
   "outputs": [
    {
     "data": {
      "text/html": [
       "<div>\n",
       "<style scoped>\n",
       "    .dataframe tbody tr th:only-of-type {\n",
       "        vertical-align: middle;\n",
       "    }\n",
       "\n",
       "    .dataframe tbody tr th {\n",
       "        vertical-align: top;\n",
       "    }\n",
       "\n",
       "    .dataframe thead th {\n",
       "        text-align: right;\n",
       "    }\n",
       "</style>\n",
       "<table border=\"1\" class=\"dataframe\">\n",
       "  <thead>\n",
       "    <tr style=\"text-align: right;\">\n",
       "      <th></th>\n",
       "      <th>price</th>\n",
       "      <th>rooms</th>\n",
       "      <th>bedrooms</th>\n",
       "      <th>bathrooms</th>\n",
       "      <th>surface_total</th>\n",
       "      <th>surface_covered</th>\n",
       "      <th>lat</th>\n",
       "      <th>lon</th>\n",
       "    </tr>\n",
       "  </thead>\n",
       "  <tbody>\n",
       "    <tr>\n",
       "      <th>873</th>\n",
       "      <td>1.750000e+08</td>\n",
       "      <td>3.0</td>\n",
       "      <td>3.0</td>\n",
       "      <td>2.0</td>\n",
       "      <td>63.0</td>\n",
       "      <td>63.0</td>\n",
       "      <td>4.753</td>\n",
       "      <td>-74.112</td>\n",
       "    </tr>\n",
       "    <tr>\n",
       "      <th>1311</th>\n",
       "      <td>8.000000e+08</td>\n",
       "      <td>5.0</td>\n",
       "      <td>5.0</td>\n",
       "      <td>3.0</td>\n",
       "      <td>175.0</td>\n",
       "      <td>253.0</td>\n",
       "      <td>4.703</td>\n",
       "      <td>-74.057</td>\n",
       "    </tr>\n",
       "    <tr>\n",
       "      <th>1557</th>\n",
       "      <td>1.800000e+09</td>\n",
       "      <td>3.0</td>\n",
       "      <td>3.0</td>\n",
       "      <td>4.0</td>\n",
       "      <td>550.0</td>\n",
       "      <td>369.0</td>\n",
       "      <td>4.724</td>\n",
       "      <td>-74.024</td>\n",
       "    </tr>\n",
       "    <tr>\n",
       "      <th>8163</th>\n",
       "      <td>3.490000e+08</td>\n",
       "      <td>4.0</td>\n",
       "      <td>4.0</td>\n",
       "      <td>3.0</td>\n",
       "      <td>90.0</td>\n",
       "      <td>180.0</td>\n",
       "      <td>4.745</td>\n",
       "      <td>-74.064</td>\n",
       "    </tr>\n",
       "    <tr>\n",
       "      <th>8171</th>\n",
       "      <td>9.500000e+08</td>\n",
       "      <td>4.0</td>\n",
       "      <td>4.0</td>\n",
       "      <td>4.0</td>\n",
       "      <td>322.0</td>\n",
       "      <td>279.0</td>\n",
       "      <td>4.702</td>\n",
       "      <td>-74.060</td>\n",
       "    </tr>\n",
       "  </tbody>\n",
       "</table>\n",
       "</div>"
      ],
      "text/plain": [
       "             price  rooms  bedrooms  bathrooms  surface_total  \\\n",
       "873   1.750000e+08    3.0       3.0        2.0           63.0   \n",
       "1311  8.000000e+08    5.0       5.0        3.0          175.0   \n",
       "1557  1.800000e+09    3.0       3.0        4.0          550.0   \n",
       "8163  3.490000e+08    4.0       4.0        3.0           90.0   \n",
       "8171  9.500000e+08    4.0       4.0        4.0          322.0   \n",
       "\n",
       "      surface_covered    lat     lon  \n",
       "873              63.0  4.753 -74.112  \n",
       "1311            253.0  4.703 -74.057  \n",
       "1557            369.0  4.724 -74.024  \n",
       "8163            180.0  4.745 -74.064  \n",
       "8171            279.0  4.702 -74.060  "
      ]
     },
     "execution_count": 14,
     "metadata": {},
     "output_type": "execute_result"
    }
   ],
   "source": [
    "df=df.dropna()\n",
    "df.head()"
   ]
  },
  {
   "cell_type": "code",
   "execution_count": 15,
   "id": "7c16f3ac",
   "metadata": {},
   "outputs": [
    {
     "data": {
      "text/plain": [
       "(1132, 8)"
      ]
     },
     "execution_count": 15,
     "metadata": {},
     "output_type": "execute_result"
    }
   ],
   "source": [
    "df.shape"
   ]
  },
  {
   "cell_type": "markdown",
   "id": "1e779dd9",
   "metadata": {},
   "source": [
    "# Enfoque de validación\n",
    "\n",
    "Divido la muestra en 80% entrenamiento, 20% prueba"
   ]
  },
  {
   "cell_type": "code",
   "execution_count": 34,
   "id": "7ba489c4",
   "metadata": {},
   "outputs": [],
   "source": [
    "from sklearn.model_selection import train_test_split\n",
    "\n",
    "train, test = train_test_split(df, test_size=0.2,random_state=123)"
   ]
  },
  {
   "cell_type": "code",
   "execution_count": 35,
   "id": "233628da",
   "metadata": {},
   "outputs": [],
   "source": [
    "y_train= train['price']\n",
    "X_train=train.drop(columns=['price'])\n",
    "\n",
    "y_test= test['price']\n",
    "X_test=test.drop(columns=['price'])"
   ]
  },
  {
   "cell_type": "code",
   "execution_count": 18,
   "id": "c49ef571",
   "metadata": {},
   "outputs": [],
   "source": [
    "from sklearn.linear_model import LinearRegression\n",
    "\n",
    "model1 = LinearRegression().fit(X_train[['rooms']],y_train)                                     "
   ]
  },
  {
   "cell_type": "code",
   "execution_count": 19,
   "id": "c4a9d77f",
   "metadata": {},
   "outputs": [],
   "source": [
    " y_pred = model1.predict(X_test[['rooms']])"
   ]
  },
  {
   "cell_type": "code",
   "execution_count": 20,
   "id": "4d4f3b37",
   "metadata": {},
   "outputs": [
    {
     "data": {
      "text/plain": [
       "array([1.32764284e+09, 1.31508025e+09, 1.31298649e+09, 1.31926778e+09,\n",
       "       1.31298649e+09, 1.32764284e+09, 1.31717402e+09, 1.31508025e+09,\n",
       "       1.31089272e+09, 1.32136155e+09])"
      ]
     },
     "execution_count": 20,
     "metadata": {},
     "output_type": "execute_result"
    }
   ],
   "source": [
    "y_pred[0:10]"
   ]
  },
  {
   "cell_type": "code",
   "execution_count": 21,
   "id": "c05a62cc",
   "metadata": {},
   "outputs": [
    {
     "data": {
      "text/plain": [
       "2.648756376377227e+18"
      ]
     },
     "execution_count": 21,
     "metadata": {},
     "output_type": "execute_result"
    }
   ],
   "source": [
    "from sklearn.metrics import mean_squared_error\n",
    "mean_squared_error(y_test,y_pred)"
   ]
  },
  {
   "cell_type": "markdown",
   "id": "338cfa1f",
   "metadata": {},
   "source": [
    "# Lasso"
   ]
  },
  {
   "cell_type": "code",
   "execution_count": 23,
   "id": "fad4e8b1",
   "metadata": {},
   "outputs": [],
   "source": [
    "#llamamos la libreria\n",
    "from sklearn.linear_model import Lasso"
   ]
  },
  {
   "cell_type": "code",
   "execution_count": 37,
   "id": "269785b4",
   "metadata": {},
   "outputs": [
    {
     "name": "stdout",
     "output_type": "stream",
     "text": [
      "[2093765.47]\n"
     ]
    }
   ],
   "source": [
    "# Definimos el modelo\n",
    "model1 = Lasso(alpha=0.01).fit(X_train[['rooms']],y_train)\n",
    "print(np.round_(model1.coef_,decimals=2))"
   ]
  },
  {
   "cell_type": "code",
   "execution_count": 40,
   "id": "01d03ccd",
   "metadata": {},
   "outputs": [
    {
     "name": "stdout",
     "output_type": "stream",
     "text": [
      "[1983417.37]\n"
     ]
    }
   ],
   "source": [
    "# Aumentamos la penalidad a 1000000\n",
    "model2 = Lasso(alpha=1000000).fit(X_train[['rooms']],y_train)\n",
    "print(np.round_(model2.coef_,decimals=2))"
   ]
  },
  {
   "cell_type": "code",
   "execution_count": 41,
   "id": "43b33d29",
   "metadata": {},
   "outputs": [
    {
     "name": "stdout",
     "output_type": "stream",
     "text": [
      "[990284.48]\n"
     ]
    }
   ],
   "source": [
    "# Aumentamos la penalidad a 10000000\n",
    "model3 = Lasso(alpha=10000000).fit(X_train[['rooms']],y_train)\n",
    "print(np.round_(model3.coef_,decimals=2))"
   ]
  },
  {
   "cell_type": "code",
   "execution_count": 43,
   "id": "d881113c",
   "metadata": {},
   "outputs": [
    {
     "name": "stdout",
     "output_type": "stream",
     "text": [
      "[0.]\n"
     ]
    }
   ],
   "source": [
    "# Aumentamos la penalidad a 100000000000000000\n",
    "model4 = Lasso(alpha=100000000000000000).fit(X_train[['rooms']],y_train)\n",
    "print(np.round_(model4.coef_,decimals=2))"
   ]
  }
 ],
 "metadata": {
  "kernelspec": {
   "display_name": "Python 3",
   "language": "python",
   "name": "python3"
  },
  "language_info": {
   "codemirror_mode": {
    "name": "ipython",
    "version": 3
   },
   "file_extension": ".py",
   "mimetype": "text/x-python",
   "name": "python",
   "nbconvert_exporter": "python",
   "pygments_lexer": "ipython3",
   "version": "3.7.6"
  },
  "toc": {
   "base_numbering": 1,
   "nav_menu": {},
   "number_sections": true,
   "sideBar": true,
   "skip_h1_title": false,
   "title_cell": "Table of Contents",
   "title_sidebar": "Contents",
   "toc_cell": false,
   "toc_position": {},
   "toc_section_display": true,
   "toc_window_display": false
  }
 },
 "nbformat": 4,
 "nbformat_minor": 5
}
